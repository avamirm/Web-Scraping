{
 "cells": [
  {
   "cell_type": "markdown",
   "metadata": {},
   "source": [
    "# Web Scraping and Introductory Data Analysis\n",
    "bla bla bla"
   ]
  },
  {
   "cell_type": "markdown",
   "metadata": {},
   "source": [
    "## Part 1: Web Scraping "
   ]
  },
  {
   "cell_type": "code",
   "execution_count": 2,
   "metadata": {},
   "outputs": [],
   "source": [
    "from selenium import webdriver\n",
    "from selenium.webdriver.common.keys import Keys\n",
    "from selenium.webdriver.common.by import By\n"
   ]
  },
  {
   "cell_type": "markdown",
   "metadata": {},
   "source": []
  },
  {
   "cell_type": "code",
   "execution_count": 3,
   "metadata": {},
   "outputs": [],
   "source": [
    "WEB_URL = \"https://etherscan.io/txs\"\n",
    "TRX_TABLE_XPATH_HEAD = \"//table[@class='table table-hover table-align-middle mb-0']/thead/tr/th\"\n",
    "TRX_TABLE_XPATH_BODY = \"//table[@class='table table-hover table-align-middle mb-0']/tbody/tr\"\n"
   ]
  },
  {
   "cell_type": "code",
   "execution_count": 4,
   "metadata": {},
   "outputs": [],
   "source": [
    "driver = webdriver.Firefox()\n",
    "def setupWebDriver():\n",
    "    driver.get(WEB_URL)\n",
    "    assert \"Ethereum\" in driver.title"
   ]
  },
  {
   "cell_type": "code",
   "execution_count": 73,
   "metadata": {},
   "outputs": [
    {
     "name": "stdout",
     "output_type": "stream",
     "text": [
      "\n",
      "Txn Hash\n",
      "Method\n",
      "Block\n",
      "Age\n",
      "From\n",
      " \n",
      "To\n",
      "Value\n",
      "Txn Fee\n"
     ]
    },
    {
     "ename": "AttributeError",
     "evalue": "'list' object has no attribute 'text'",
     "output_type": "error",
     "traceback": [
      "\u001b[1;31m---------------------------------------------------------------------------\u001b[0m",
      "\u001b[1;31mAttributeError\u001b[0m                            Traceback (most recent call last)",
      "Cell \u001b[1;32mIn[73], line 5\u001b[0m\n\u001b[0;32m      3\u001b[0m \u001b[38;5;28;01mfor\u001b[39;00m i \u001b[38;5;129;01min\u001b[39;00m table_head:\n\u001b[0;32m      4\u001b[0m     \u001b[38;5;28mprint\u001b[39m(i\u001b[38;5;241m.\u001b[39mtext)\n\u001b[1;32m----> 5\u001b[0m \u001b[38;5;28mprint\u001b[39m(\u001b[43mtable_head\u001b[49m\u001b[38;5;241;43m.\u001b[39;49m\u001b[43mtext\u001b[49m)\n",
      "\u001b[1;31mAttributeError\u001b[0m: 'list' object has no attribute 'text'"
     ]
    }
   ],
   "source": [
    "def \n",
    "trx_table_head = driver.find_elements(By.XPATH, TRX_TABLE_XPATH_HEAD)\n",
    "for i in trx_table_head:\n",
    "    print(i.text)\n",
    "print(trx_table_head.text)\n"
   ]
  },
  {
   "cell_type": "code",
   "execution_count": 84,
   "metadata": {},
   "outputs": [
    {
     "name": "stdout",
     "output_type": "stream",
     "text": [
      "[]\n",
      "['0x7e0711a24a0affec8a48ae921a53f80ca7958b1c7863c4f665816ecda4c73749']\n",
      "['Transfer']\n",
      "['19345802']\n",
      "[]\n",
      "['10 secs ago']\n",
      "[]\n",
      "['rsync-builder.eth']\n",
      "[]\n",
      "['Lido: Execution Layer Rewards Vault']\n",
      "['0.057973223 ETH']\n",
      "['0.00096908']\n",
      "[]\n",
      "\n",
      "[]\n",
      "['0x10d76bd056eca6224f8312ec1a4172385d35ed8c4987f9daba538610186da4d7']\n",
      "['Request L2Transa...']\n",
      "['19345802']\n",
      "[]\n",
      "['10 secs ago']\n",
      "[]\n",
      "['0x63D1c730...479515A45']\n",
      "[]\n",
      "['zkSync Era: Diamond Proxy']\n",
      "['0.013376431 ETH']\n",
      "['0.00466063']\n",
      "[]\n",
      "\n",
      "[]\n",
      "['0xb24e7c4b6b5088e09974954fe3cca0f381b303a487755153f0aeaee163fba44d']\n",
      "['Approve']\n",
      "['19345802']\n",
      "[]\n",
      "['10 secs ago']\n",
      "[]\n",
      "['0x769e5508...6D58B997b']\n",
      "[]\n",
      "['Verasity: VRA Token']\n",
      "['0 ETH']\n",
      "['0.00204512']\n",
      "[]\n",
      "\n",
      "[]\n",
      "['0xa9c28667698b4ca7277c8e84056dd172dd408436f3aa4386e17fc961e3575e5c']\n",
      "['Transfer']\n",
      "['19345802']\n",
      "[]\n",
      "['10 secs ago']\n",
      "[]\n",
      "['mercuryo']\n",
      "[]\n",
      "['0x96dEE688...9Cd31f4f3']\n",
      "['0.020750196 ETH']\n",
      "['0.00092041']\n",
      "[]\n",
      "\n",
      "[]\n",
      "['0xf87cb6eb31003737feb76fcb15607589024872a6f9dbdf7f2e3202ceee3be815']\n",
      "['Take Ask Single']\n",
      "['19345802']\n",
      "[]\n",
      "['10 secs ago']\n",
      "[]\n",
      "['chuy.eth']\n",
      "[]\n",
      "['Blur.io: Marketplace 3']\n",
      "['1.51 ETH']\n",
      "['0.00724078']\n",
      "[]\n",
      "\n",
      "[]\n",
      "['0x75a71857eb17ac01e6964455937cf253958c2a87a59f11be1b2bb17e1c64836a']\n",
      "['Transfer']\n",
      "['19345802']\n",
      "[]\n",
      "['10 secs ago']\n",
      "[]\n",
      "['0xD207f7FC...c4014fd22']\n",
      "[]\n",
      "['Tether: USDT Stablecoin']\n",
      "['0 ETH']\n",
      "['0.00181002']\n",
      "[]\n",
      "\n",
      "[]\n",
      "['0x49ed76d151f2a3b463b335c261fad4fb62fc4552d82d3a5fee49994c4f90ce25']\n",
      "['Transfer']\n",
      "['19345802']\n",
      "[]\n",
      "['10 secs ago']\n",
      "[]\n",
      "['0x88043D1a...8cA362f9a']\n",
      "[]\n",
      "['SpacePi: SpacePi Token']\n",
      "['0 ETH']\n",
      "['0.00153249']\n",
      "[]\n",
      "\n",
      "[]\n",
      "['0x483cbbb29e3afd89cd0a27025e0b96d6b4fac332dc89b4af9b391a18a73cf700']\n",
      "['Stake Eth From Q...']\n",
      "['19345802']\n",
      "[]\n",
      "['10 secs ago']\n",
      "[]\n",
      "['0x64E96800...e2409baE6']\n",
      "[]\n",
      "['0xf2F305D1...4795D0d60']\n",
      "['0 ETH']\n",
      "['0.00808874']\n",
      "[]\n",
      "\n",
      "[]\n",
      "['0x704f373ce3bf5b3bfbc1a8341e312f71f63e4a27f6fe892f1ff75f65ebda1227']\n",
      "['Sell To Uniswap']\n",
      "['19345802']\n",
      "[]\n",
      "['10 secs ago']\n",
      "[]\n",
      "['0xB6574db1...0E1297B7A']\n",
      "[]\n",
      "['0x: Exchange Proxy']\n",
      "['0.342162569 ETH']\n",
      "['0.00432534']\n",
      "[]\n",
      "\n",
      "[]\n",
      "['0x6a287bbc548063a425cef5e02b085fd1b53b019583f4a3fb1d2c554de0209ac9']\n",
      "['0x415565b0']\n",
      "['19345802']\n",
      "[]\n",
      "['10 secs ago']\n",
      "[]\n",
      "['0xEBdd9ad9...0A34dd09A']\n",
      "[]\n",
      "['0x: Exchange Proxy']\n",
      "['0.290110285 ETH']\n",
      "['0.01076571']\n",
      "[]\n",
      "\n"
     ]
    }
   ],
   "source": [
    "FIRST_TRX_IDX = 0\n",
    "LAST_TRX_IDX = 10\n",
    "body = driver.find_elements(By.XPATH, )[FIRST_TRX_IDX:LAST_TRX_IDX]\n",
    "len(body)\n",
    "for i in body:\n",
    "    row = i.find_elements(By.XPATH,\"td\")\n",
    "    \n",
    "    for r in row:\n",
    "        r_list = [r.text]\n",
    "        r_list = [item for item in r_list if item]\n",
    "        print(r_list)\n",
    "    print()\n",
    "        # print(r.text)\n"
   ]
  }
 ],
 "metadata": {
  "kernelspec": {
   "display_name": "venv",
   "language": "python",
   "name": "python3"
  },
  "language_info": {
   "codemirror_mode": {
    "name": "ipython",
    "version": 3
   },
   "file_extension": ".py",
   "mimetype": "text/x-python",
   "name": "python",
   "nbconvert_exporter": "python",
   "pygments_lexer": "ipython3",
   "version": "3.9.13"
  }
 },
 "nbformat": 4,
 "nbformat_minor": 2
}
