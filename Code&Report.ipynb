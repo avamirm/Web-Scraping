{
 "cells": [
  {
   "cell_type": "markdown",
   "metadata": {},
   "source": [
    "# Web Scraping and Introductory Data Analysis\n",
    "bla bla bla"
   ]
  },
  {
   "cell_type": "markdown",
   "metadata": {},
   "source": [
    "## Part 1: Web Scraping "
   ]
  },
  {
   "cell_type": "code",
   "execution_count": 44,
   "metadata": {},
   "outputs": [],
   "source": [
    "from selenium import webdriver\n",
    "from selenium.webdriver.common.by import By\n",
    "from bs4 import BeautifulSoup\n",
    "import pandas as pd\n",
    "import matplotlib.pyplot as plt\n",
    "import numpy as np\n",
    "from scipy.stats import norm\n",
    "import time\n"
   ]
  },
  {
   "cell_type": "markdown",
   "metadata": {},
   "source": []
  },
  {
   "cell_type": "code",
   "execution_count": 45,
   "metadata": {},
   "outputs": [],
   "source": [
    "WEB_URL = \"https://etherscan.io/txs\"\n",
    "TRX_TABLE_XPATH_HEAD = \"//table[@class='table table-hover table-align-middle mb-0']/thead/tr/th\"\n",
    "TRX_TABLE_XPATH_BODY = \"//table[@class='table table-hover table-align-middle mb-0']/tbody/tr\"\n",
    "ETHER_SCAN_CSV_FILE = \"etherscan.csv\"\n",
    "NUM_OF_BLOCKS = 10\n"
   ]
  },
  {
   "cell_type": "markdown",
   "metadata": {},
   "source": [
    "We begin by initializing a WebDriver using Selenium. Specifically, we use the Firefox WebDriver to instantiate a Firefox browser instance. This WebDriver will facilitate interactions with web elements. The WebDriver navigates to the [Etherscan.io](https://etherscan.io/txs).  \n",
    "An assertion is used to verify that the title of the webpage contains the keyword \"Ethereum\". This step ensures that the WebDriver successfully loaded the expected webpage.  \n",
    "Also it is good to mention that the webdriver will wait for a page to load by default via .get() method before attempting to scrape the data."
   ]
  },
  {
   "cell_type": "code",
   "execution_count": 46,
   "metadata": {},
   "outputs": [],
   "source": [
    "driver = webdriver.Firefox()\n",
    "def setupWebDriver():\n",
    "    driver.get(WEB_URL)\n",
    "    assert \"Ethereum\" in driver.title\n",
    "\n",
    "setupWebDriver()"
   ]
  },
  {
   "cell_type": "markdown",
   "metadata": {},
   "source": [
    "The getTrxTableHeaders function extracts transactions table headers from HTML source code using the table's id. It modifies the extracted headers to match a specific format and returns the modified header as a list.  \n",
    "The getTrxTableBody function extracts the body of a transaction table from HTML source code using Beautiful Soup. It iterates through each row of the table, extracts the text from each cell, removes newline characters. Additionally, it captures the block number from the first row of the table. "
   ]
  },
  {
   "cell_type": "code",
   "execution_count": 47,
   "metadata": {},
   "outputs": [],
   "source": [
    "def getTrxTableHeaders(html_src):\n",
    "    trx_table_head = html_src.find(id = \"ContentPlaceHolder1_theadAllTransactionTable\").find_all('th')\n",
    "    header = [header.get_text().replace(\"\\n\", \"\") for header in trx_table_head]\n",
    "    header[2] = \"Method\"\n",
    "    header.pop(0)\n",
    "    header.pop(5)\n",
    "    header.insert(3, \"Date\")\n",
    "    header.insert(5, \"Local Time\")\n",
    "    header.append(\"Gas Price\")\n",
    "    return header\n",
    "\n",
    "def getTrxTableBody(rows_elements, html_src):\n",
    "    trx_table_body = html_src.find('table')\n",
    "    trx_table_body = trx_table_body.find_all('tr')\n",
    "    block_number = 0\n",
    "    for i in range(1, len(trx_table_body)):\n",
    "        rows = trx_table_body[i].find_all('td')\n",
    "        element = [elem.get_text() for elem in rows]\n",
    "        element = list(map(lambda x: x.replace(\"\\n\", \"\"), element))\n",
    "        element.pop(8)\n",
    "        element.pop(0)\n",
    "        if i == 1:\n",
    "            block_number = int(element[2])\n",
    "        rows_elements.append(element)\n",
    "    return rows_elements, block_number"
   ]
  },
  {
   "cell_type": "markdown",
   "metadata": {},
   "source": [
    "In this part we iterate through the transaction table, continuously fetching data until a certain condition is met. We click on the \"Next\" button in order to implement pagination handling to navigate through the pages and collect the last 10 blocks' transactions data. In this case that certain condition is the block number; At each iteration we get the first row's block number and compare it to the latest block number that we have.  \n",
    "In the end we save the data into a DataFrame."
   ]
  },
  {
   "cell_type": "code",
   "execution_count": 48,
   "metadata": {},
   "outputs": [],
   "source": [
    "def saveTransactionsToDp(header, body):\n",
    "    transactionsDf = pd.DataFrame(body, columns=header)\n",
    "    transactionsDf.to_csv(ETHER_SCAN_CSV_FILE, mode='a', header=False, index=False)\n",
    "    return transactionsDf\n",
    "    \n",
    "def scrapeWebPage():\n",
    "    html_src = BeautifulSoup(driver.page_source, 'html.parser')\n",
    "    header = getTrxTableHeaders(html_src)\n",
    "    rows_elements = []\n",
    "    body, latest_block_number = getTrxTableBody(rows_elements, html_src)\n",
    "    while True:\n",
    "        html_src = BeautifulSoup(driver.page_source, 'html.parser')\n",
    "        body, block_number = getTrxTableBody(body, html_src)\n",
    "        next_button = driver.find_element(By.XPATH, '//a[@aria-label=\"Next\"]')\n",
    "        time.sleep(0.2)\n",
    "        next_button.click()\n",
    "        if block_number == latest_block_number - NUM_OF_BLOCKS:\n",
    "            break\n",
    "    transactionsDf = saveTransactionsToDp(header, body)\n",
    "    driver.close()\n",
    "    return latest_block_number, transactionsDf\n"
   ]
  },
  {
   "cell_type": "code",
   "execution_count": 49,
   "metadata": {},
   "outputs": [],
   "source": [
    "latest_block_number, transactionsDf = scrapeWebPage()\n",
    "def saveToCsvFile(transactionsDf):\n",
    "    transactionsDf.to_csv(ETHER_SCAN_CSV_FILE, index=False)\n",
    "    \n",
    "saveToCsvFile(transactionsDf)"
   ]
  },
  {
   "cell_type": "markdown",
   "metadata": {},
   "source": [
    "## Part 2: Data Analysis"
   ]
  },
  {
   "cell_type": "code",
   "execution_count": null,
   "metadata": {},
   "outputs": [],
   "source": []
  },
  {
   "cell_type": "markdown",
   "metadata": {},
   "source": [
    "#### Clean Transactions Data"
   ]
  },
  {
   "cell_type": "code",
   "execution_count": 50,
   "metadata": {},
   "outputs": [],
   "source": [
    "transactionsDf_raw = transactionsDf.copy()"
   ]
  },
  {
   "cell_type": "code",
   "execution_count": 51,
   "metadata": {},
   "outputs": [
    {
     "data": {
      "text/html": [
       "<div>\n",
       "<style scoped>\n",
       "    .dataframe tbody tr th:only-of-type {\n",
       "        vertical-align: middle;\n",
       "    }\n",
       "\n",
       "    .dataframe tbody tr th {\n",
       "        vertical-align: top;\n",
       "    }\n",
       "\n",
       "    .dataframe thead th {\n",
       "        text-align: right;\n",
       "    }\n",
       "</style>\n",
       "<table border=\"1\" class=\"dataframe\">\n",
       "  <thead>\n",
       "    <tr style=\"text-align: right;\">\n",
       "      <th></th>\n",
       "      <th>Txn Hash</th>\n",
       "      <th>Method</th>\n",
       "      <th>Block</th>\n",
       "      <th>Date</th>\n",
       "      <th>Age</th>\n",
       "      <th>Local Time</th>\n",
       "      <th>From</th>\n",
       "      <th>To</th>\n",
       "      <th>Value</th>\n",
       "      <th>Txn Fee</th>\n",
       "      <th>Gas Price</th>\n",
       "    </tr>\n",
       "  </thead>\n",
       "  <tbody>\n",
       "    <tr>\n",
       "      <th>0</th>\n",
       "      <td>0x78d28539fa6bafafa693ab3e88f0d69f1d76b7309e09...</td>\n",
       "      <td>Transfer</td>\n",
       "      <td>19398639</td>\n",
       "      <td>2024-03-09 16:08:59</td>\n",
       "      <td>16 secs ago</td>\n",
       "      <td>1710000539</td>\n",
       "      <td>builder0x69.eth</td>\n",
       "      <td>Lido: Execution Layer Rewards Vault</td>\n",
       "      <td>0.055852458 ETH</td>\n",
       "      <td>0.00166325</td>\n",
       "      <td>75.22307817</td>\n",
       "    </tr>\n",
       "    <tr>\n",
       "      <th>1</th>\n",
       "      <td>0x51139f42abe61475f05b79f25047fd0917769de90ba6...</td>\n",
       "      <td>Approve</td>\n",
       "      <td>19398639</td>\n",
       "      <td>2024-03-09 16:08:59</td>\n",
       "      <td>16 secs ago</td>\n",
       "      <td>1710000539</td>\n",
       "      <td>0x72ebAF6D...7711e1c2D</td>\n",
       "      <td>Wrapped Ether</td>\n",
       "      <td>0 ETH</td>\n",
       "      <td>0.00217611</td>\n",
       "      <td>75.28765497</td>\n",
       "    </tr>\n",
       "    <tr>\n",
       "      <th>2</th>\n",
       "      <td>0x05ce599999a91a027f57148b0414e359a4d188af2cd5...</td>\n",
       "      <td>Approve</td>\n",
       "      <td>19398639</td>\n",
       "      <td>2024-03-09 16:08:59</td>\n",
       "      <td>16 secs ago</td>\n",
       "      <td>1710000539</td>\n",
       "      <td>0x222C40Ac...878D6d4a5</td>\n",
       "      <td>Lido: stETH Token</td>\n",
       "      <td>0 ETH</td>\n",
       "      <td>0.00362871</td>\n",
       "      <td>75.28765497</td>\n",
       "    </tr>\n",
       "    <tr>\n",
       "      <th>3</th>\n",
       "      <td>0x55fcc20c69b7313ef26f629f4e09cf9686edcf73dc63...</td>\n",
       "      <td>Approve</td>\n",
       "      <td>19398639</td>\n",
       "      <td>2024-03-09 16:08:59</td>\n",
       "      <td>16 secs ago</td>\n",
       "      <td>1710000539</td>\n",
       "      <td>tudemuun.eth</td>\n",
       "      <td>0xeb25Cfe9...f09EE6FF6</td>\n",
       "      <td>0 ETH</td>\n",
       "      <td>0.00348559</td>\n",
       "      <td>75.28765497</td>\n",
       "    </tr>\n",
       "    <tr>\n",
       "      <th>4</th>\n",
       "      <td>0x2c728c6597cc9e113b1711beccebf13d35ac53ccc362...</td>\n",
       "      <td>Transfer</td>\n",
       "      <td>19398639</td>\n",
       "      <td>2024-03-09 16:08:59</td>\n",
       "      <td>16 secs ago</td>\n",
       "      <td>1710000539</td>\n",
       "      <td>0xd8d42c8d...cE83fE695</td>\n",
       "      <td>0xA6Aca097...19b2b88cD</td>\n",
       "      <td>0.05 ETH</td>\n",
       "      <td>0.00158104</td>\n",
       "      <td>75.28765497</td>\n",
       "    </tr>\n",
       "    <tr>\n",
       "      <th>...</th>\n",
       "      <td>...</td>\n",
       "      <td>...</td>\n",
       "      <td>...</td>\n",
       "      <td>...</td>\n",
       "      <td>...</td>\n",
       "      <td>...</td>\n",
       "      <td>...</td>\n",
       "      <td>...</td>\n",
       "      <td>...</td>\n",
       "      <td>...</td>\n",
       "      <td>...</td>\n",
       "    </tr>\n",
       "    <tr>\n",
       "      <th>2545</th>\n",
       "      <td>0x2b4863c81e76acae07a2cce1b6839de5cc284c0a9c1e...</td>\n",
       "      <td>Transfer</td>\n",
       "      <td>19398629</td>\n",
       "      <td>2024-03-09 16:06:59</td>\n",
       "      <td>3 mins ago</td>\n",
       "      <td>1710000419</td>\n",
       "      <td>OKX: Deposit Funder</td>\n",
       "      <td>0x0D8Aa9D8...F1Fad0630</td>\n",
       "      <td>0.006 ETH</td>\n",
       "      <td>0.00173838</td>\n",
       "      <td>82.7801148</td>\n",
       "    </tr>\n",
       "    <tr>\n",
       "      <th>2546</th>\n",
       "      <td>0x0f3d3808147db272f04ee4c88f7aa17cc1de25112748...</td>\n",
       "      <td>Transfer</td>\n",
       "      <td>19398629</td>\n",
       "      <td>2024-03-09 16:06:59</td>\n",
       "      <td>3 mins ago</td>\n",
       "      <td>1710000419</td>\n",
       "      <td>OKX: Deposit Funder</td>\n",
       "      <td>0x08489dFE...8105e8EcB</td>\n",
       "      <td>0.006 ETH</td>\n",
       "      <td>0.00173838</td>\n",
       "      <td>82.7801148</td>\n",
       "    </tr>\n",
       "    <tr>\n",
       "      <th>2547</th>\n",
       "      <td>0x6db535a96e99f485d70f7c43c3838b1ada79c8cf4ff5...</td>\n",
       "      <td>Transfer</td>\n",
       "      <td>19398629</td>\n",
       "      <td>2024-03-09 16:06:59</td>\n",
       "      <td>3 mins ago</td>\n",
       "      <td>1710000419</td>\n",
       "      <td>OKX: Deposit Funder</td>\n",
       "      <td>0x48A0222e...032C5a2F5</td>\n",
       "      <td>0.006 ETH</td>\n",
       "      <td>0.00173838</td>\n",
       "      <td>82.7801148</td>\n",
       "    </tr>\n",
       "    <tr>\n",
       "      <th>2548</th>\n",
       "      <td>0xd586e8c9a80360b001e026e92426d65859cbdd3771c0...</td>\n",
       "      <td>Transfer</td>\n",
       "      <td>19398629</td>\n",
       "      <td>2024-03-09 16:06:59</td>\n",
       "      <td>3 mins ago</td>\n",
       "      <td>1710000419</td>\n",
       "      <td>0x83491750...775c0c169</td>\n",
       "      <td>0x5BDe7768...2d94CEEad</td>\n",
       "      <td>0.16 ETH</td>\n",
       "      <td>0.00173838</td>\n",
       "      <td>82.7801148</td>\n",
       "    </tr>\n",
       "    <tr>\n",
       "      <th>2549</th>\n",
       "      <td>0x86fab16bd5947ef67f185a04016427462cac9b7f3ac5...</td>\n",
       "      <td>Transfer</td>\n",
       "      <td>19398629</td>\n",
       "      <td>2024-03-09 16:06:59</td>\n",
       "      <td>3 mins ago</td>\n",
       "      <td>1710000419</td>\n",
       "      <td>0xaaB9f3eA...F70371923</td>\n",
       "      <td>0x571d9b73...48F83b779</td>\n",
       "      <td>0 ETH</td>\n",
       "      <td>0.00444703</td>\n",
       "      <td>82.7801148</td>\n",
       "    </tr>\n",
       "  </tbody>\n",
       "</table>\n",
       "<p>2550 rows × 11 columns</p>\n",
       "</div>"
      ],
      "text/plain": [
       "                                               Txn Hash    Method     Block  \\\n",
       "0     0x78d28539fa6bafafa693ab3e88f0d69f1d76b7309e09...  Transfer  19398639   \n",
       "1     0x51139f42abe61475f05b79f25047fd0917769de90ba6...   Approve  19398639   \n",
       "2     0x05ce599999a91a027f57148b0414e359a4d188af2cd5...   Approve  19398639   \n",
       "3     0x55fcc20c69b7313ef26f629f4e09cf9686edcf73dc63...   Approve  19398639   \n",
       "4     0x2c728c6597cc9e113b1711beccebf13d35ac53ccc362...  Transfer  19398639   \n",
       "...                                                 ...       ...       ...   \n",
       "2545  0x2b4863c81e76acae07a2cce1b6839de5cc284c0a9c1e...  Transfer  19398629   \n",
       "2546  0x0f3d3808147db272f04ee4c88f7aa17cc1de25112748...  Transfer  19398629   \n",
       "2547  0x6db535a96e99f485d70f7c43c3838b1ada79c8cf4ff5...  Transfer  19398629   \n",
       "2548  0xd586e8c9a80360b001e026e92426d65859cbdd3771c0...  Transfer  19398629   \n",
       "2549  0x86fab16bd5947ef67f185a04016427462cac9b7f3ac5...  Transfer  19398629   \n",
       "\n",
       "                     Date          Age  Local Time                     From  \\\n",
       "0     2024-03-09 16:08:59  16 secs ago  1710000539         builder0x69.eth    \n",
       "1     2024-03-09 16:08:59  16 secs ago  1710000539  0x72ebAF6D...7711e1c2D    \n",
       "2     2024-03-09 16:08:59  16 secs ago  1710000539  0x222C40Ac...878D6d4a5    \n",
       "3     2024-03-09 16:08:59  16 secs ago  1710000539            tudemuun.eth    \n",
       "4     2024-03-09 16:08:59  16 secs ago  1710000539  0xd8d42c8d...cE83fE695    \n",
       "...                   ...          ...         ...                      ...   \n",
       "2545  2024-03-09 16:06:59   3 mins ago  1710000419     OKX: Deposit Funder    \n",
       "2546  2024-03-09 16:06:59   3 mins ago  1710000419     OKX: Deposit Funder    \n",
       "2547  2024-03-09 16:06:59   3 mins ago  1710000419     OKX: Deposit Funder    \n",
       "2548  2024-03-09 16:06:59   3 mins ago  1710000419  0x83491750...775c0c169    \n",
       "2549  2024-03-09 16:06:59   3 mins ago  1710000419  0xaaB9f3eA...F70371923    \n",
       "\n",
       "                                        To            Value     Txn Fee  \\\n",
       "0     Lido: Execution Layer Rewards Vault   0.055852458 ETH  0.00166325   \n",
       "1                           Wrapped Ether             0 ETH  0.00217611   \n",
       "2                       Lido: stETH Token             0 ETH  0.00362871   \n",
       "3                  0xeb25Cfe9...f09EE6FF6             0 ETH  0.00348559   \n",
       "4                  0xA6Aca097...19b2b88cD          0.05 ETH  0.00158104   \n",
       "...                                    ...              ...         ...   \n",
       "2545               0x0D8Aa9D8...F1Fad0630         0.006 ETH  0.00173838   \n",
       "2546               0x08489dFE...8105e8EcB         0.006 ETH  0.00173838   \n",
       "2547               0x48A0222e...032C5a2F5         0.006 ETH  0.00173838   \n",
       "2548               0x5BDe7768...2d94CEEad          0.16 ETH  0.00173838   \n",
       "2549               0x571d9b73...48F83b779             0 ETH  0.00444703   \n",
       "\n",
       "        Gas Price  \n",
       "0     75.22307817  \n",
       "1     75.28765497  \n",
       "2     75.28765497  \n",
       "3     75.28765497  \n",
       "4     75.28765497  \n",
       "...           ...  \n",
       "2545   82.7801148  \n",
       "2546   82.7801148  \n",
       "2547   82.7801148  \n",
       "2548   82.7801148  \n",
       "2549   82.7801148  \n",
       "\n",
       "[2550 rows x 11 columns]"
      ]
     },
     "metadata": {},
     "output_type": "display_data"
    }
   ],
   "source": [
    "display(transactionsDf)"
   ]
  },
  {
   "cell_type": "code",
   "execution_count": 52,
   "metadata": {},
   "outputs": [
    {
     "name": "stdout",
     "output_type": "stream",
     "text": [
      "<class 'pandas.core.frame.DataFrame'>\n",
      "RangeIndex: 2550 entries, 0 to 2549\n",
      "Data columns (total 11 columns):\n",
      " #   Column      Non-Null Count  Dtype \n",
      "---  ------      --------------  ----- \n",
      " 0   Txn Hash    2550 non-null   object\n",
      " 1   Method      2550 non-null   object\n",
      " 2   Block       2550 non-null   object\n",
      " 3   Date        2550 non-null   object\n",
      " 4   Age         2550 non-null   object\n",
      " 5   Local Time  2550 non-null   object\n",
      " 6   From        2550 non-null   object\n",
      " 7   To          2550 non-null   object\n",
      " 8   Value       2550 non-null   object\n",
      " 9   Txn Fee     2550 non-null   object\n",
      " 10  Gas Price   2550 non-null   object\n",
      "dtypes: object(11)\n",
      "memory usage: 219.3+ KB\n"
     ]
    }
   ],
   "source": [
    "transactionsDf.info()"
   ]
  },
  {
   "cell_type": "code",
   "execution_count": 53,
   "metadata": {},
   "outputs": [
    {
     "name": "stdout",
     "output_type": "stream",
     "text": [
      "Rows count before removing duplicate rows: 2550\n",
      "Rows count after removing duplicate rows: 1865\n"
     ]
    }
   ],
   "source": [
    "print(f\"Rows count before removing duplicate rows: {transactionsDf.shape[0]}\")\n",
    "transactionsDf.drop_duplicates(subset=['Txn Hash'], inplace=True)\n",
    "print(f\"Rows count after removing duplicate rows: {transactionsDf.shape[0]}\")\n",
    "\n",
    "transactionsDf_removed_dups = transactionsDf.copy()"
   ]
  },
  {
   "cell_type": "code",
   "execution_count": 54,
   "metadata": {},
   "outputs": [
    {
     "name": "stdout",
     "output_type": "stream",
     "text": [
      "<class 'pandas.core.frame.DataFrame'>\n",
      "Int64Index: 1865 entries, 0 to 2549\n",
      "Data columns (total 5 columns):\n",
      " #   Column    Non-Null Count  Dtype  \n",
      "---  ------    --------------  -----  \n",
      " 0   Txn Hash  1865 non-null   object \n",
      " 1   Method    1865 non-null   object \n",
      " 2   Block     1865 non-null   int32  \n",
      " 3   Value     1865 non-null   float64\n",
      " 4   Txn Fee   1865 non-null   float64\n",
      "dtypes: float64(2), int32(1), object(2)\n",
      "memory usage: 80.1+ KB\n"
     ]
    }
   ],
   "source": [
    "transactionsDf.drop(columns=['Date', 'Age', 'From', 'To', 'Local Time', 'Gas Price'], inplace=True)\n",
    "\n",
    "transactionsDf['Block'] = transactionsDf['Block'].astype(int)\n",
    "transactionsDf['Txn Fee'] = transactionsDf['Txn Fee'].str.replace('\"', '').str.replace(',', '').astype(str)\n",
    "transactionsDf['Txn Fee'] = transactionsDf['Txn Fee'].astype(float)\n",
    "transactionsDf['Value'] = transactionsDf['Value'].str.replace('\"', '').str.replace(',', '').astype(str)\n",
    "transactionsDf['Value'] = transactionsDf['Value'].apply(lambda x: float(x.split(' ')[0]) if 'ETH' in x else float(x.split(' ')[0])/10**18)\n",
    "\n",
    "transactionsDf.info()"
   ]
  },
  {
   "cell_type": "code",
   "execution_count": 55,
   "metadata": {},
   "outputs": [
    {
     "name": "stdout",
     "output_type": "stream",
     "text": [
      "Before removing Extra Blocks:\n",
      "Max Block number: 19398640, Min Block number:  19398629\n",
      "Unique Values in Block Column: 12\n",
      "\n",
      "After removing Extra Blocks:\n",
      "Max Block number: 19398639, Min Block number:  19398630\n",
      "Unique Values in Block Column: 10\n"
     ]
    }
   ],
   "source": [
    "print(\"Before removing Extra Blocks:\")\n",
    "print(f\"Max Block number: {transactionsDf['Block'].max()}, Min Block number:  {transactionsDf['Block'].min()}\")\n",
    "print(f\"Unique Values in Block Column: {transactionsDf['Block'].nunique()}\")\n",
    "\n",
    "block_mask = (transactionsDf['Block'] > latest_block_number - NUM_OF_BLOCKS) & (transactionsDf['Block'] <= latest_block_number)\n",
    "transactionsDf = transactionsDf[block_mask]\n",
    "\n",
    "print(\"\\nAfter removing Extra Blocks:\")\n",
    "print(f\"Max Block number: {transactionsDf['Block'].max()}, Min Block number:  {transactionsDf['Block'].min()}\")\n",
    "print(f\"Unique Values in Block Column: {transactionsDf['Block'].nunique()}\")"
   ]
  },
  {
   "cell_type": "code",
   "execution_count": 56,
   "metadata": {},
   "outputs": [],
   "source": [
    "transactionsDf_cleansed = transactionsDf.copy()"
   ]
  },
  {
   "cell_type": "code",
   "execution_count": 57,
   "metadata": {},
   "outputs": [
    {
     "data": {
      "text/html": [
       "<div>\n",
       "<style scoped>\n",
       "    .dataframe tbody tr th:only-of-type {\n",
       "        vertical-align: middle;\n",
       "    }\n",
       "\n",
       "    .dataframe tbody tr th {\n",
       "        vertical-align: top;\n",
       "    }\n",
       "\n",
       "    .dataframe thead th {\n",
       "        text-align: right;\n",
       "    }\n",
       "</style>\n",
       "<table border=\"1\" class=\"dataframe\">\n",
       "  <thead>\n",
       "    <tr style=\"text-align: right;\">\n",
       "      <th></th>\n",
       "      <th>Block</th>\n",
       "      <th>Value</th>\n",
       "      <th>Txn Fee</th>\n",
       "    </tr>\n",
       "  </thead>\n",
       "  <tbody>\n",
       "    <tr>\n",
       "      <th>count</th>\n",
       "      <td>1.536000e+03</td>\n",
       "      <td>1.536000e+03</td>\n",
       "      <td>1536.000000</td>\n",
       "    </tr>\n",
       "    <tr>\n",
       "      <th>mean</th>\n",
       "      <td>1.939863e+07</td>\n",
       "      <td>5.809805e-01</td>\n",
       "      <td>0.008143</td>\n",
       "    </tr>\n",
       "    <tr>\n",
       "      <th>std</th>\n",
       "      <td>2.993698e+00</td>\n",
       "      <td>6.912997e+00</td>\n",
       "      <td>0.021964</td>\n",
       "    </tr>\n",
       "    <tr>\n",
       "      <th>min</th>\n",
       "      <td>1.939863e+07</td>\n",
       "      <td>0.000000e+00</td>\n",
       "      <td>0.001581</td>\n",
       "    </tr>\n",
       "    <tr>\n",
       "      <th>25%</th>\n",
       "      <td>1.939863e+07</td>\n",
       "      <td>0.000000e+00</td>\n",
       "      <td>0.001734</td>\n",
       "    </tr>\n",
       "    <tr>\n",
       "      <th>50%</th>\n",
       "      <td>1.939863e+07</td>\n",
       "      <td>1.565000e-16</td>\n",
       "      <td>0.003785</td>\n",
       "    </tr>\n",
       "    <tr>\n",
       "      <th>75%</th>\n",
       "      <td>1.939864e+07</td>\n",
       "      <td>8.595152e-02</td>\n",
       "      <td>0.010395</td>\n",
       "    </tr>\n",
       "    <tr>\n",
       "      <th>max</th>\n",
       "      <td>1.939864e+07</td>\n",
       "      <td>2.000458e+02</td>\n",
       "      <td>0.561137</td>\n",
       "    </tr>\n",
       "  </tbody>\n",
       "</table>\n",
       "</div>"
      ],
      "text/plain": [
       "              Block         Value      Txn Fee\n",
       "count  1.536000e+03  1.536000e+03  1536.000000\n",
       "mean   1.939863e+07  5.809805e-01     0.008143\n",
       "std    2.993698e+00  6.912997e+00     0.021964\n",
       "min    1.939863e+07  0.000000e+00     0.001581\n",
       "25%    1.939863e+07  0.000000e+00     0.001734\n",
       "50%    1.939863e+07  1.565000e-16     0.003785\n",
       "75%    1.939864e+07  8.595152e-02     0.010395\n",
       "max    1.939864e+07  2.000458e+02     0.561137"
      ]
     },
     "metadata": {},
     "output_type": "display_data"
    },
    {
     "data": {
      "text/html": [
       "<div>\n",
       "<style scoped>\n",
       "    .dataframe tbody tr th:only-of-type {\n",
       "        vertical-align: middle;\n",
       "    }\n",
       "\n",
       "    .dataframe tbody tr th {\n",
       "        vertical-align: top;\n",
       "    }\n",
       "\n",
       "    .dataframe thead th {\n",
       "        text-align: right;\n",
       "    }\n",
       "</style>\n",
       "<table border=\"1\" class=\"dataframe\">\n",
       "  <thead>\n",
       "    <tr style=\"text-align: right;\">\n",
       "      <th></th>\n",
       "      <th>Block</th>\n",
       "      <th>Value</th>\n",
       "      <th>Txn Fee</th>\n",
       "    </tr>\n",
       "  </thead>\n",
       "  <tbody>\n",
       "    <tr>\n",
       "      <th>count</th>\n",
       "      <td>7.700000e+02</td>\n",
       "      <td>7.700000e+02</td>\n",
       "      <td>770.000000</td>\n",
       "    </tr>\n",
       "    <tr>\n",
       "      <th>mean</th>\n",
       "      <td>1.939863e+07</td>\n",
       "      <td>1.158943e+00</td>\n",
       "      <td>0.007337</td>\n",
       "    </tr>\n",
       "    <tr>\n",
       "      <th>std</th>\n",
       "      <td>2.966023e+00</td>\n",
       "      <td>9.732519e+00</td>\n",
       "      <td>0.027807</td>\n",
       "    </tr>\n",
       "    <tr>\n",
       "      <th>min</th>\n",
       "      <td>1.939863e+07</td>\n",
       "      <td>1.000000e-18</td>\n",
       "      <td>0.001581</td>\n",
       "    </tr>\n",
       "    <tr>\n",
       "      <th>25%</th>\n",
       "      <td>1.939863e+07</td>\n",
       "      <td>2.020014e-02</td>\n",
       "      <td>0.001679</td>\n",
       "    </tr>\n",
       "    <tr>\n",
       "      <th>50%</th>\n",
       "      <td>1.939863e+07</td>\n",
       "      <td>8.549161e-02</td>\n",
       "      <td>0.001742</td>\n",
       "    </tr>\n",
       "    <tr>\n",
       "      <th>75%</th>\n",
       "      <td>1.939864e+07</td>\n",
       "      <td>3.800000e-01</td>\n",
       "      <td>0.010292</td>\n",
       "    </tr>\n",
       "    <tr>\n",
       "      <th>max</th>\n",
       "      <td>1.939864e+07</td>\n",
       "      <td>2.000458e+02</td>\n",
       "      <td>0.561137</td>\n",
       "    </tr>\n",
       "  </tbody>\n",
       "</table>\n",
       "</div>"
      ],
      "text/plain": [
       "              Block         Value     Txn Fee\n",
       "count  7.700000e+02  7.700000e+02  770.000000\n",
       "mean   1.939863e+07  1.158943e+00    0.007337\n",
       "std    2.966023e+00  9.732519e+00    0.027807\n",
       "min    1.939863e+07  1.000000e-18    0.001581\n",
       "25%    1.939863e+07  2.020014e-02    0.001679\n",
       "50%    1.939863e+07  8.549161e-02    0.001742\n",
       "75%    1.939864e+07  3.800000e-01    0.010292\n",
       "max    1.939864e+07  2.000458e+02    0.561137"
      ]
     },
     "metadata": {},
     "output_type": "display_data"
    }
   ],
   "source": [
    "transactionsDf_with_zero_txn = transactionsDf.copy()\n",
    "display(transactionsDf_with_zero_txn.describe())\n",
    "\n",
    "transactionsDf_without_zero_txn = transactionsDf[transactionsDf['Value'] > 0]\n",
    "display(transactionsDf_without_zero_txn.describe())"
   ]
  },
  {
   "cell_type": "markdown",
   "metadata": {},
   "source": [
    "### Plotting Histogram of Tnx Fee and Value with and without zero transactions"
   ]
  },
  {
   "cell_type": "markdown",
   "metadata": {},
   "source": [
    "Transaction Fee Distribution"
   ]
  },
  {
   "cell_type": "code",
   "execution_count": 58,
   "metadata": {},
   "outputs": [
    {
     "data": {
      "image/png": "[encoded data removed]",
      "text/plain": [
       "<Figure size 1080x360 with 2 Axes>"
      ]
     },
     "metadata": {
      "needs_background": "light"
     },
     "output_type": "display_data"
    }
   ],
   "source": [
    "# 3.5 * standard deviation * n^(-1/3)\n",
    "# bin_width_with_zero_txn = (3.5 * transactionsDf_with_zero_txn['Txn Fee'].std()) / (transactionsDf_with_zero_txn['Txn Fee'].count() ** (1/3))\n",
    "# bin_size_with_zero_txn = round((transactionsDf_with_zero_txn['Txn Fee'].max() - transactionsDf_with_zero_txn['Txn Fee'].min()) / bin_width_with_zero_txn)\n",
    "\n",
    "# bin_width_without_zero_txn = (3.5 * transactionsDf_without_zero_txn['Txn Fee'].std()) / (transactionsDf_without_zero_txn['Txn Fee'].count() ** (1/3))\n",
    "# bin_size_without_zero_txn = round((transactionsDf_without_zero_txn['Txn Fee'].max() - transactionsDf_without_zero_txn['Txn Fee'].min()) / bin_width_without_zero_txn)\n",
    "\n",
    "# #square root of the number of transactions\n",
    "# bin_size_with_zero_txn = int(transactionsDf_with_zero_txn['Txn Fee'].count()** (1/2))\n",
    "# bin_size_without_zero_txn = int(transactionsDf_without_zero_txn['Txn Fee'].count() ** (1/2))\n",
    "\n",
    "# 2 * IQR * n^(-1/3)\n",
    "bin_width_with_zero_txn = 2 * (transactionsDf_with_zero_txn['Txn Fee'].quantile(0.75) - transactionsDf_with_zero_txn['Txn Fee'].quantile(0.25)) * transactionsDf_with_zero_txn['Txn Fee'].count() ** (-1/3)\n",
    "bin_width_without_zero_txn = 2 * (transactionsDf_without_zero_txn['Txn Fee'].quantile(0.75) - transactionsDf_without_zero_txn['Txn Fee'].quantile(0.25)) * transactionsDf_without_zero_txn['Txn Fee'].count() ** (-1/3)\n",
    "bin_size_with_zero_txn = round((transactionsDf_with_zero_txn['Txn Fee'].max() - transactionsDf_with_zero_txn['Txn Fee'].min()) / bin_width_with_zero_txn)\n",
    "bin_size_without_zero_txn = round((transactionsDf_without_zero_txn['Txn Fee'].max() - transactionsDf_without_zero_txn['Txn Fee'].min()) / bin_width_without_zero_txn)\n",
    "\n",
    "fig, ax = plt.subplots(1, 2, figsize=(15, 5))\n",
    "fig.suptitle('Transaction Fee Distribution')\n",
    "\n",
    "ax[0].hist(transactionsDf_with_zero_txn['Txn Fee'], bins=bin_size_with_zero_txn, color='blue')\n",
    "ax[0].set_title('With Zero Transactions')\n",
    "ax[0].set_xlabel('Transaction Fee')\n",
    "ax[0].set_ylabel('Frequency')\n",
    "\n",
    "ax[1].hist(transactionsDf_without_zero_txn['Txn Fee'], bins=bin_size_without_zero_txn, color='green')\n",
    "ax[1].set_title('Without Zero Transactions')\n",
    "ax[1].set_xlabel('Transaction Fee')\n",
    "ax[1].set_ylabel('Frequency')\n",
    "\n",
    "plt.show()\n"
   ]
  },
  {
   "cell_type": "code",
   "execution_count": 59,
   "metadata": {},
   "outputs": [
    {
     "data": {
      "image/png": "[encoded data removed]",
      "text/plain": [
       "<Figure size 1080x360 with 2 Axes>"
      ]
     },
     "metadata": {
      "needs_background": "light"
     },
     "output_type": "display_data"
    }
   ],
   "source": [
    "\n",
    "# 1 + log2(n) is the optimal number of bins\n",
    "# bin_size_with_zero_txn = 1 + int(np.log2(transactionsDf_with_zero_txn['Txn Fee'].count()))\n",
    "# bin_size_without_zero_txn = 1 + int(np.log2(transactionsDf_without_zero_txn['Txn Fee'].count()))\n",
    "\n",
    "# fig, ax = plt.subplots(1, 2, figsize=(15, 5))\n",
    "# fig.suptitle('Transaction Fee Distribution')\n",
    "\n",
    "# ax[0].hist(transactionsDf_with_zero_txn['Txn Fee'], bins=bin_size_with_zero_txn, color='blue')\n",
    "# ax[0].set_title('With Zero Transactions')\n",
    "# ax[0].set_xlabel('Transaction Fee')\n",
    "# ax[0].set_ylabel('Frequency')\n",
    "\n",
    "# ax[1].hist(transactionsDf_without_zero_txn['Txn Fee'], bins=bin_size_without_zero_txn, color='green')\n",
    "# ax[1].set_title('Without Zero Transactions')\n",
    "# ax[1].set_xlabel('Transaction Fee')\n",
    "# ax[1].set_ylabel('Frequency')\n",
    "\n",
    "# plt.show()\n",
    "\n",
    "# 1 + log2(n) is the optimal number of bins\n",
    "bin_width_with_zero_txn = 2 * (transactionsDf_with_zero_txn['Txn Fee'].quantile(0.75) - transactionsDf_with_zero_txn['Txn Fee'].quantile(0.25)) * transactionsDf_with_zero_txn['Txn Fee'].count() ** (-1/3)\n",
    "bin_width_without_zero_txn = 2 * (transactionsDf_without_zero_txn['Txn Fee'].quantile(0.75) - transactionsDf_without_zero_txn['Txn Fee'].quantile(0.25)) * transactionsDf_without_zero_txn['Txn Fee'].count() ** (-1/3)\n",
    "bin_size_with_zero_txn = round((transactionsDf_with_zero_txn['Txn Fee'].max() - transactionsDf_with_zero_txn['Txn Fee'].min()) / bin_width_with_zero_txn)\n",
    "bin_size_without_zero_txn = round((transactionsDf_without_zero_txn['Txn Fee'].max() - transactionsDf_without_zero_txn['Txn Fee'].min()) / bin_width_without_zero_txn)\n",
    "\n",
    "if bin_size_with_zero_txn > 50:\n",
    "    bin_size_with_zero_txn = 100\n",
    "if bin_size_without_zero_txn > 50:\n",
    "    bin_size_without_zero_txn = 100\n",
    "\n",
    "fig, ax = plt.subplots(1, 2, figsize=(15, 5))\n",
    "fig.suptitle('Transaction Fee Distribution')\n",
    "\n",
    "ax[0].hist(transactionsDf_with_zero_txn['Txn Fee'], bins=bin_size_with_zero_txn, color='blue', density=True, alpha=0.6)\n",
    "ax[1].hist(transactionsDf_without_zero_txn['Txn Fee'], bins=bin_size_without_zero_txn, color='green', density=True, alpha=0.6)\n",
    "\n",
    "mu1, std1 = norm.fit(transactionsDf_with_zero_txn['Txn Fee'])\n",
    "mu2, std2 = norm.fit(transactionsDf_without_zero_txn['Txn Fee'])\n",
    "\n",
    "xmin1, xmax1 = ax[0].get_xlim()\n",
    "x1 = np.linspace(xmin1, xmax1, 100)\n",
    "p1 = norm.pdf(x1, mu1, std1)\n",
    "ax[0].plot(x1, p1, 'k', linewidth=2)\n",
    "\n",
    "xmin2, xmax2 = ax[1].get_xlim()\n",
    "x2 = np.linspace(xmin2, xmax2, 100)\n",
    "p2 = norm.pdf(x2, mu2, std2)\n",
    "ax[1].plot(x2, p2, 'k', linewidth=2)\n",
    "\n",
    "ax[0].set_title('With Zero Transactions')\n",
    "ax[0].set_xlabel('Transaction Fee')\n",
    "ax[0].set_ylabel('Density')\n",
    "\n",
    "ax[1].set_title('Without Zero Transactions')\n",
    "ax[1].set_xlabel('Transaction Fee')\n",
    "ax[1].set_ylabel('Density')\n",
    "\n",
    "plt.show()"
   ]
  },
  {
   "cell_type": "markdown",
   "metadata": {},
   "source": [
    "#### Plotting the Histogram of transaction fee using log transformation"
   ]
  },
  {
   "cell_type": "code",
   "execution_count": 60,
   "metadata": {},
   "outputs": [],
   "source": [
    "def calcBinSize(df):\n",
    "    bin_width = 2 * (df.quantile(0.75) - df.quantile(0.25)) * df.count() ** (-1/3)\n",
    "    bin_size = round((df.max() - df.min()) / bin_width)\n",
    "    if bin_size > 50:\n",
    "        bin_size = 100\n",
    "    return bin_size"
   ]
  },
  {
   "cell_type": "code",
   "execution_count": 61,
   "metadata": {},
   "outputs": [
    {
     "data": {
      "image/png": "[encoded data removed]",
      "text/plain": [
       "<Figure size 1080x360 with 2 Axes>"
      ]
     },
     "metadata": {
      "needs_background": "light"
     },
     "output_type": "display_data"
    }
   ],
   "source": [
    "bin_size_with_zero_txn = calcBinSize(np.log(transactionsDf_with_zero_txn['Txn Fee']))\n",
    "bin_size_without_zero_txn = calcBinSize(np.log(transactionsDf_without_zero_txn['Txn Fee']))\n",
    "    \n",
    "fig, ax = plt.subplots(1, 2, figsize=(15, 5))\n",
    "fig.suptitle('Transaction Fee Distribution using Log Transformation')\n",
    "\n",
    "ax[0].hist(np.log(transactionsDf_with_zero_txn['Txn Fee']), bins=bin_size_with_zero_txn, color='blue', density=True, alpha=0.6)\n",
    "ax[1].hist(np.log(transactionsDf_without_zero_txn['Txn Fee']), bins=bin_size_without_zero_txn, color='green', density=True, alpha=0.6)\n",
    "\n",
    "mu1, std1 = norm.fit(np.log(transactionsDf_with_zero_txn['Txn Fee']))\n",
    "mu2, std2 = norm.fit(np.log(transactionsDf_without_zero_txn['Txn Fee']))\n",
    "\n",
    "xmin1, xmax1 = ax[0].get_xlim()\n",
    "x1 = np.linspace(xmin1, xmax1, 100)\n",
    "p1 = norm.pdf(x1, mu1, std1)\n",
    "ax[0].plot(x1, p1, 'k', linewidth=2)\n",
    "\n",
    "xmin2, xmax2 = ax[1].get_xlim()\n",
    "x2 = np.linspace(xmin2, xmax2, 100)\n",
    "p2 = norm.pdf(x2, mu2, std2)\n",
    "ax[1].plot(x2, p2, 'k', linewidth=2)\n",
    "\n",
    "ax[0].set_title('With Zero Transactions')\n",
    "ax[0].set_xlabel('Transaction Fee (log scale)')\n",
    "ax[0].set_ylabel('Density')\n",
    "\n",
    "ax[1].set_title('Without Zero Transactions')\n",
    "ax[1].set_xlabel('Transaction Fee (log scale)')\n",
    "ax[1].set_ylabel('Density')\n",
    "\n",
    "plt.show()"
   ]
  },
  {
   "cell_type": "markdown",
   "metadata": {},
   "source": [
    "Transaction Value Distribution"
   ]
  },
  {
   "cell_type": "code",
   "execution_count": 62,
   "metadata": {},
   "outputs": [
    {
     "data": {
      "image/png": "[encoded data removed]",
      "text/plain": [
       "<Figure size 1080x360 with 2 Axes>"
      ]
     },
     "metadata": {
      "needs_background": "light"
     },
     "output_type": "display_data"
    }
   ],
   "source": [
    "\n",
    "bin_size_with_zero_txn = calcBinSize(transactionsDf_with_zero_txn['Value'])\n",
    "bin_size_without_zero_txn = calcBinSize(transactionsDf_without_zero_txn['Value'])\n",
    "\n",
    "fig, ax = plt.subplots(1, 2, figsize=(15, 5))\n",
    "fig.suptitle('Transaction Value Distribution')\n",
    "\n",
    "ax[0].hist(transactionsDf_with_zero_txn['Value'], bins=bin_size_with_zero_txn, color='blue')\n",
    "ax[0].set_title('With Zero Transactions')\n",
    "ax[0].set_xlabel('Transaction Value')\n",
    "ax[0].set_ylabel('Frequency')\n",
    "\n",
    "ax[1].hist(transactionsDf_without_zero_txn['Value'], bins=bin_size_without_zero_txn, color='green')\n",
    "ax[1].set_title('Without Zero Transactions')\n",
    "ax[1].set_xlabel('Transaction Value')\n",
    "ax[1].set_ylabel('Frequency')\n",
    "\n",
    "plt.show()"
   ]
  },
  {
   "cell_type": "code",
   "execution_count": 63,
   "metadata": {},
   "outputs": [
    {
     "data": {
      "image/png": "[encoded data removed]",
      "text/plain": [
       "<Figure size 1080x360 with 2 Axes>"
      ]
     },
     "metadata": {
      "needs_background": "light"
     },
     "output_type": "display_data"
    }
   ],
   "source": [
    "epsilon = 1e-5\n",
    "tnx_with_epsilon_as_zero = transactionsDf_with_zero_txn['Value'] + epsilon\n",
    "bin_size_with_zero_txn = calcBinSize(np.log(tnx_with_epsilon_as_zero))\n",
    "bin_size_without_zero_txn = calcBinSize(np.log(transactionsDf_without_zero_txn['Value']))\n",
    "\n",
    "fig, ax = plt.subplots(1, 2, figsize=(15, 5))\n",
    "fig.suptitle('Transaction Value Distribution using Log Transformation')\n",
    "\n",
    "ax[0].hist(np.log(tnx_with_epsilon_as_zero), bins=bin_size_with_zero_txn, color='blue', density=True, alpha=0.6)\n",
    "ax[1].hist(np.log(transactionsDf_without_zero_txn['Value']), bins=bin_size_without_zero_txn, color='green', density=True, alpha=0.6)\n",
    "\n",
    "mu1, std1 = norm.fit(np.log(tnx_with_epsilon_as_zero))\n",
    "mu2, std2 = norm.fit(np.log(transactionsDf_without_zero_txn['Value']))\n",
    "\n",
    "xmin1, xmax1 = ax[0].get_xlim()\n",
    "x1 = np.linspace(xmin1, xmax1, 100)\n",
    "p1 = norm.pdf(x1, mu1, std1)\n",
    "ax[0].plot(x1, p1, 'k', linewidth=2)\n",
    "\n",
    "xmin2, xmax2 = ax[1].get_xlim()\n",
    "x2 = np.linspace(xmin2, xmax2, 100)\n",
    "p2 = norm.pdf(x2, mu2, std2)\n",
    "ax[1].plot(x2, p2, 'k', linewidth=2)\n",
    "\n",
    "ax[0].set_title('With Zero Transactions')\n",
    "ax[0].set_xlabel('Transaction Value')\n",
    "ax[0].set_ylabel('Density')\n",
    "\n",
    "ax[1].set_title('Without Zero Transactions')\n",
    "ax[1].set_xlabel('Transaction Value')\n",
    "ax[1].set_ylabel('Density')\n",
    "\n",
    "plt.show()"
   ]
  },
  {
   "cell_type": "markdown",
   "metadata": {},
   "source": [
    "### Box Plot"
   ]
  },
  {
   "cell_type": "code",
   "execution_count": 64,
   "metadata": {},
   "outputs": [
    {
     "data": {
      "image/png": "[encoded data removed]",
      "text/plain": [
       "<Figure size 1080x360 with 2 Axes>"
      ]
     },
     "metadata": {
      "needs_background": "light"
     },
     "output_type": "display_data"
    }
   ],
   "source": [
    "fig, ax = plt.subplots(1, 2, figsize=(15, 5))\n",
    "fig.suptitle('Transaction Fee Distribution using Log Transformation')\n",
    "\n",
    "boxplot1 = ax[0].boxplot(np.log(transactionsDf_with_zero_txn['Txn Fee']))\n",
    "ax[0].set_title('With Zero Transactions')\n",
    "ax[0].set_ylabel('Transaction Fee')\n",
    "ax[0].set_xticklabels(['Txn Fee'])\n",
    "\n",
    "boxplot2 = ax[1].boxplot(np.log(transactionsDf_without_zero_txn['Txn Fee']))\n",
    "ax[1].set_title('Without Zero Transactions')\n",
    "ax[1].set_ylabel('Transaction Fee')\n",
    "ax[1].set_xticklabels(['Txn Fee'])\n",
    "\n",
    "colors = ['blue', 'green']\n",
    "for box, color in zip([boxplot1, boxplot2], colors):\n",
    "    for whisker in box['whiskers']:\n",
    "        whisker.set(color=color, linestyle='-')\n",
    "    for cap in box['caps']:\n",
    "        cap.set(color=color)\n",
    "    for median in box['medians']:\n",
    "        median.set(color='red')\n",
    "\n",
    "plt.show()"
   ]
  },
  {
   "cell_type": "code",
   "execution_count": 65,
   "metadata": {},
   "outputs": [
    {
     "data": {
      "image/png": "[encoded data removed]",
      "text/plain": [
       "<Figure size 1080x360 with 2 Axes>"
      ]
     },
     "metadata": {
      "needs_background": "light"
     },
     "output_type": "display_data"
    }
   ],
   "source": [
    "fig, ax = plt.subplots(1, 2, figsize=(15, 5))\n",
    "fig.suptitle('Transaction Value Distribution using Log Transformation')\n",
    "\n",
    "boxplot1 = ax[0].boxplot(np.log(tnx_with_epsilon_as_zero))\n",
    "ax[0].set_title('With Zero Transactions')\n",
    "ax[0].set_ylabel('Transaction Value')\n",
    "ax[0].set_xticklabels(['Value'])\n",
    "\n",
    "boxplot2 = ax[1].boxplot(np.log(transactionsDf_without_zero_txn['Value']))\n",
    "ax[1].set_title('Without Zero Transactions')\n",
    "ax[1].set_ylabel('Transaction Value')\n",
    "ax[1].set_xticklabels(['Value'])\n",
    "\n",
    "colors = ['blue', 'green']\n",
    "for box, color in zip([boxplot1, boxplot2], colors):\n",
    "    for whisker in box['whiskers']:\n",
    "        whisker.set(color=color, linestyle='-')\n",
    "    for cap in box['caps']:\n",
    "        cap.set(color=color)\n",
    "    for median in box['medians']:\n",
    "        median.set(color='red')\n",
    "\n",
    "plt.show()"
   ]
  },
  {
   "cell_type": "markdown",
   "metadata": {},
   "source": [
    "### Violin Plot"
   ]
  },
  {
   "cell_type": "code",
   "execution_count": 66,
   "metadata": {},
   "outputs": [
    {
     "data": {
      "image/png": "[encoded data removed]",
      "text/plain": [
       "<Figure size 576x432 with 1 Axes>"
      ]
     },
     "metadata": {
      "needs_background": "light"
     },
     "output_type": "display_data"
    }
   ],
   "source": [
    "fig, ax = plt.subplots(figsize=(8, 6))\n",
    "ax.set_title('Transaction Fee Distribution using Log Transformation')\n",
    "\n",
    "violin_parts = ax.violinplot([np.log(transactionsDf_with_zero_txn['Txn Fee']), np.log(transactionsDf_without_zero_txn['Txn Fee'])], showmedians=True)\n",
    "\n",
    "colors = ['blue', 'green']\n",
    "for pc, color in zip(violin_parts['bodies'], colors):\n",
    "    pc.set_facecolor(color)\n",
    "\n",
    "ax.set_ylabel('Log of Transaction Fee')\n",
    "ax.set_xticks([1, 2])\n",
    "ax.set_xticklabels(['With Zero Transactions', 'Without Zero Transactions'])\n",
    "\n",
    "plt.show()\n"
   ]
  },
  {
   "cell_type": "code",
   "execution_count": 67,
   "metadata": {},
   "outputs": [
    {
     "data": {
      "image/png": "[encoded data removed]",
      "text/plain": [
       "<Figure size 576x432 with 1 Axes>"
      ]
     },
     "metadata": {
      "needs_background": "light"
     },
     "output_type": "display_data"
    }
   ],
   "source": [
    "fig, ax = plt.subplots(figsize=(8, 6))\n",
    "ax.set_title('Transaction Fee Distribution using Log Transformation')\n",
    "\n",
    "violin_parts = ax.violinplot([transactionsDf_with_zero_txn['Txn Fee'], transactionsDf_without_zero_txn['Txn Fee']], showmedians=True)\n",
    "\n",
    "colors = ['blue', 'green']\n",
    "for pc, color in zip(violin_parts['bodies'], colors):\n",
    "    pc.set_facecolor(color)\n",
    "\n",
    "ax.set_ylabel('Log of Transaction Fee')\n",
    "ax.set_xticks([1, 2])\n",
    "ax.set_xticklabels(['With Zero Transactions', 'Without Zero Transactions'])\n",
    "\n",
    "plt.show()"
   ]
  },
  {
   "cell_type": "code",
   "execution_count": 68,
   "metadata": {},
   "outputs": [
    {
     "data": {
      "image/png": "[encoded data removed]",
      "text/plain": [
       "<Figure size 576x432 with 1 Axes>"
      ]
     },
     "metadata": {
      "needs_background": "light"
     },
     "output_type": "display_data"
    }
   ],
   "source": [
    "fig, ax = plt.subplots(figsize=(8, 6))\n",
    "ax.set_title('Transaction Value Distribution using Log Transformation')\n",
    "\n",
    "violin_parts = ax.violinplot([np.log(tnx_with_epsilon_as_zero), np.log(transactionsDf_without_zero_txn['Value'])], showmedians=True)\n",
    "\n",
    "colors = ['blue', 'green']\n",
    "for pc, color in zip(violin_parts['bodies'], colors):\n",
    "    pc.set_facecolor(color)\n",
    "\n",
    "ax.set_ylabel('Log of Transaction Value')\n",
    "ax.set_xticks([1, 2])\n",
    "ax.set_xticklabels(['With Zero Transactions', 'Without Zero Transactions'])\n",
    "\n",
    "plt.show()"
   ]
  },
  {
   "cell_type": "code",
   "execution_count": 69,
   "metadata": {},
   "outputs": [
    {
     "data": {
      "text/plain": [
       "[Text(1, 0, 'With Zero Transactions'), Text(2, 0, 'Without Zero Transactions')]"
      ]
     },
     "execution_count": 69,
     "metadata": {},
     "output_type": "execute_result"
    },
    {
     "data": {
      "image/png": "[encoded data removed]",
      "text/plain": [
       "<Figure size 576x432 with 1 Axes>"
      ]
     },
     "metadata": {
      "needs_background": "light"
     },
     "output_type": "display_data"
    }
   ],
   "source": [
    "fig, ax = plt.subplots(figsize=(8, 6))\n",
    "ax.set_title('Transaction Value Distribution')\n",
    "\n",
    "violin_parts = ax.violinplot([transactionsDf_with_zero_txn['Value'], transactionsDf_without_zero_txn['Value']], showmedians=True)\n",
    "\n",
    "colors = ['blue', 'green']\n",
    "for pc, color in zip(violin_parts['bodies'], colors):\n",
    "    pc.set_facecolor(color)\n",
    "\n",
    "ax.set_ylabel('Log of Transaction Value')\n",
    "ax.set_xticks([1, 2])\n",
    "ax.set_xticklabels(['With Zero Transactions', 'Without Zero Transactions'])"
   ]
  },
  {
   "cell_type": "markdown",
   "metadata": {},
   "source": [
    "## Sampling Data"
   ]
  },
  {
   "cell_type": "markdown",
   "metadata": {},
   "source": [
    "The function uses a formula to determine the appropriate sample size based on the specified margin of error and confidence level. The function returns the calculated sample size as a proportion of the population size. If the calculated sample size is less than 20% of the population size, it returns 0.2 (20%) instead.  \n",
    "`max(n/df.shape[0], 0.2)`: This line ensures that the calculated sample size is at least 20% of the population size. It's a way to prevent the sample size from being too small relative to the population size."
   ]
  },
  {
   "cell_type": "code",
   "execution_count": null,
   "metadata": {},
   "outputs": [],
   "source": [
    "def calcSampleProportion(df):\n",
    "    z_score = 1.96\n",
    "    margin_error = 0.05\n",
    "    std_dev = df['Txn Fee'].std()\n",
    "    numerator = ((z_score ** 2) * (std_dev * (1-std_dev))) / (margin_error ** 2)\n",
    "    denominator = 1 + (((z_score ** 2) * (std_dev * (1-std_dev))) / ((margin_error ** 2) * (df.shape[0])))\n",
    "    n = int(numerator / denominator)\n",
    "    return max(n/df.shape[0], 0.2)"
   ]
  },
  {
   "cell_type": "markdown",
   "metadata": {},
   "source": [
    "At first we will have a brief overview of the data and statistical summary of the data."
   ]
  },
  {
   "cell_type": "code",
   "execution_count": 71,
   "metadata": {},
   "outputs": [
    {
     "data": {
      "text/html": [
       "<div>\n",
       "<style scoped>\n",
       "    .dataframe tbody tr th:only-of-type {\n",
       "        vertical-align: middle;\n",
       "    }\n",
       "\n",
       "    .dataframe tbody tr th {\n",
       "        vertical-align: top;\n",
       "    }\n",
       "\n",
       "    .dataframe thead th {\n",
       "        text-align: right;\n",
       "    }\n",
       "</style>\n",
       "<table border=\"1\" class=\"dataframe\">\n",
       "  <thead>\n",
       "    <tr style=\"text-align: right;\">\n",
       "      <th></th>\n",
       "      <th>Value</th>\n",
       "      <th>Txn Fee</th>\n",
       "    </tr>\n",
       "  </thead>\n",
       "  <tbody>\n",
       "    <tr>\n",
       "      <th>count</th>\n",
       "      <td>1.536000e+03</td>\n",
       "      <td>1536.000000</td>\n",
       "    </tr>\n",
       "    <tr>\n",
       "      <th>mean</th>\n",
       "      <td>5.809805e-01</td>\n",
       "      <td>0.008143</td>\n",
       "    </tr>\n",
       "    <tr>\n",
       "      <th>std</th>\n",
       "      <td>6.912997e+00</td>\n",
       "      <td>0.021964</td>\n",
       "    </tr>\n",
       "    <tr>\n",
       "      <th>min</th>\n",
       "      <td>0.000000e+00</td>\n",
       "      <td>0.001581</td>\n",
       "    </tr>\n",
       "    <tr>\n",
       "      <th>25%</th>\n",
       "      <td>0.000000e+00</td>\n",
       "      <td>0.001734</td>\n",
       "    </tr>\n",
       "    <tr>\n",
       "      <th>50%</th>\n",
       "      <td>1.565000e-16</td>\n",
       "      <td>0.003785</td>\n",
       "    </tr>\n",
       "    <tr>\n",
       "      <th>75%</th>\n",
       "      <td>8.595152e-02</td>\n",
       "      <td>0.010395</td>\n",
       "    </tr>\n",
       "    <tr>\n",
       "      <th>max</th>\n",
       "      <td>2.000458e+02</td>\n",
       "      <td>0.561137</td>\n",
       "    </tr>\n",
       "  </tbody>\n",
       "</table>\n",
       "</div>"
      ],
      "text/plain": [
       "              Value      Txn Fee\n",
       "count  1.536000e+03  1536.000000\n",
       "mean   5.809805e-01     0.008143\n",
       "std    6.912997e+00     0.021964\n",
       "min    0.000000e+00     0.001581\n",
       "25%    0.000000e+00     0.001734\n",
       "50%    1.565000e-16     0.003785\n",
       "75%    8.595152e-02     0.010395\n",
       "max    2.000458e+02     0.561137"
      ]
     },
     "execution_count": 71,
     "metadata": {},
     "output_type": "execute_result"
    }
   ],
   "source": [
    "transactionsDf_with_zero_txn[['Value', 'Txn Fee']].describe()"
   ]
  },
  {
   "cell_type": "markdown",
   "metadata": {},
   "source": [
    "### Simple Random Sampling (SRS)"
   ]
  },
  {
   "cell_type": "markdown",
   "metadata": {},
   "source": [
    "We use the sample method to select a simple random sample from the DataFrame. We specify the sample size using the calculated sample size. We set the random_state parameter to 42 to ensure reproducibility. The statistical summary of the sample is also displayed."
   ]
  },
  {
   "cell_type": "code",
   "execution_count": 72,
   "metadata": {},
   "outputs": [
    {
     "data": {
      "text/html": [
       "<div>\n",
       "<style scoped>\n",
       "    .dataframe tbody tr th:only-of-type {\n",
       "        vertical-align: middle;\n",
       "    }\n",
       "\n",
       "    .dataframe tbody tr th {\n",
       "        vertical-align: top;\n",
       "    }\n",
       "\n",
       "    .dataframe thead th {\n",
       "        text-align: right;\n",
       "    }\n",
       "</style>\n",
       "<table border=\"1\" class=\"dataframe\">\n",
       "  <thead>\n",
       "    <tr style=\"text-align: right;\">\n",
       "      <th></th>\n",
       "      <th>Value</th>\n",
       "      <th>Txn Fee</th>\n",
       "    </tr>\n",
       "  </thead>\n",
       "  <tbody>\n",
       "    <tr>\n",
       "      <th>count</th>\n",
       "      <td>307.000000</td>\n",
       "      <td>307.000000</td>\n",
       "    </tr>\n",
       "    <tr>\n",
       "      <th>mean</th>\n",
       "      <td>0.244091</td>\n",
       "      <td>0.008989</td>\n",
       "    </tr>\n",
       "    <tr>\n",
       "      <th>std</th>\n",
       "      <td>0.829338</td>\n",
       "      <td>0.026792</td>\n",
       "    </tr>\n",
       "    <tr>\n",
       "      <th>min</th>\n",
       "      <td>0.000000</td>\n",
       "      <td>0.001581</td>\n",
       "    </tr>\n",
       "    <tr>\n",
       "      <th>25%</th>\n",
       "      <td>0.000000</td>\n",
       "      <td>0.001739</td>\n",
       "    </tr>\n",
       "    <tr>\n",
       "      <th>50%</th>\n",
       "      <td>0.009088</td>\n",
       "      <td>0.003655</td>\n",
       "    </tr>\n",
       "    <tr>\n",
       "      <th>75%</th>\n",
       "      <td>0.122873</td>\n",
       "      <td>0.009641</td>\n",
       "    </tr>\n",
       "    <tr>\n",
       "      <th>max</th>\n",
       "      <td>10.000000</td>\n",
       "      <td>0.419933</td>\n",
       "    </tr>\n",
       "  </tbody>\n",
       "</table>\n",
       "</div>"
      ],
      "text/plain": [
       "            Value     Txn Fee\n",
       "count  307.000000  307.000000\n",
       "mean     0.244091    0.008989\n",
       "std      0.829338    0.026792\n",
       "min      0.000000    0.001581\n",
       "25%      0.000000    0.001739\n",
       "50%      0.009088    0.003655\n",
       "75%      0.122873    0.009641\n",
       "max     10.000000    0.419933"
      ]
     },
     "metadata": {},
     "output_type": "display_data"
    }
   ],
   "source": [
    "sample_size = round(calcSampleProportion(transactionsDf_with_zero_txn) * transactionsDf_with_zero_txn.shape[0])\n",
    "simple_random_sampled = transactionsDf_with_zero_txn.sample(n=sample_size, random_state=42)\n",
    "display(simple_random_sampled[['Value', 'Txn Fee']].describe())"
   ]
  },
  {
   "cell_type": "markdown",
   "metadata": {},
   "source": [
    "### Stratified Sampling"
   ]
  },
  {
   "cell_type": "markdown",
   "metadata": {},
   "source": [
    "For  stratified sampling, we use three characteristics to stratify the data: `Block', 'Method', and 'Value'. We calculate the sample size for each stratum using the formula for sample size calculation. We use the sample method to select a stratified random sample from the DataFrame. We specify the sample size for each stratum using the calculated sample size. The statistical summary of the sample is also displayed."
   ]
  },
  {
   "cell_type": "code",
   "execution_count": 73,
   "metadata": {},
   "outputs": [],
   "source": [
    "stratified_sampled_block = pd.DataFrame()\n",
    "\n",
    "for method, group in transactionsDf_with_zero_txn.groupby('Block'):\n",
    "    num_samples = round(len(group) * calcSampleProportion(transactionsDf_with_zero_txn))\n",
    "    sampled_group = group.sample(n=num_samples, random_state=42)\n",
    "    stratified_sampled = pd.concat([stratified_sampled, sampled_group])\n",
    "\n",
    "stratified_sampled_block[['Value', 'Txn Fee']].describe()"
   ]
  },
  {
   "cell_type": "markdown",
   "metadata": {},
   "source": [
    "According to numerous values for 'Method', we decided to use top 9 most frequent values for 'Method' and group the rest of the values into 'Other' category. In order not to lose the information of 'Method' column, we added a new column named 'New Method' to the DataFrame."
   ]
  },
  {
   "cell_type": "code",
   "execution_count": 74,
   "metadata": {},
   "outputs": [
    {
     "data": {
      "text/html": [
       "<div>\n",
       "<style scoped>\n",
       "    .dataframe tbody tr th:only-of-type {\n",
       "        vertical-align: middle;\n",
       "    }\n",
       "\n",
       "    .dataframe tbody tr th {\n",
       "        vertical-align: top;\n",
       "    }\n",
       "\n",
       "    .dataframe thead th {\n",
       "        text-align: right;\n",
       "    }\n",
       "</style>\n",
       "<table border=\"1\" class=\"dataframe\">\n",
       "  <thead>\n",
       "    <tr style=\"text-align: right;\">\n",
       "      <th></th>\n",
       "      <th>Txn Hash</th>\n",
       "      <th>Method</th>\n",
       "      <th>Block</th>\n",
       "      <th>Value</th>\n",
       "      <th>Txn Fee</th>\n",
       "      <th>New Methods</th>\n",
       "    </tr>\n",
       "  </thead>\n",
       "  <tbody>\n",
       "    <tr>\n",
       "      <th>0</th>\n",
       "      <td>0x78d28539fa6bafafa693ab3e88f0d69f1d76b7309e09...</td>\n",
       "      <td>Transfer</td>\n",
       "      <td>19398639</td>\n",
       "      <td>0.055852</td>\n",
       "      <td>0.001663</td>\n",
       "      <td>Transfer</td>\n",
       "    </tr>\n",
       "    <tr>\n",
       "      <th>1</th>\n",
       "      <td>0x51139f42abe61475f05b79f25047fd0917769de90ba6...</td>\n",
       "      <td>Approve</td>\n",
       "      <td>19398639</td>\n",
       "      <td>0.000000</td>\n",
       "      <td>0.002176</td>\n",
       "      <td>Approve</td>\n",
       "    </tr>\n",
       "    <tr>\n",
       "      <th>2</th>\n",
       "      <td>0x05ce599999a91a027f57148b0414e359a4d188af2cd5...</td>\n",
       "      <td>Approve</td>\n",
       "      <td>19398639</td>\n",
       "      <td>0.000000</td>\n",
       "      <td>0.003629</td>\n",
       "      <td>Approve</td>\n",
       "    </tr>\n",
       "    <tr>\n",
       "      <th>3</th>\n",
       "      <td>0x55fcc20c69b7313ef26f629f4e09cf9686edcf73dc63...</td>\n",
       "      <td>Approve</td>\n",
       "      <td>19398639</td>\n",
       "      <td>0.000000</td>\n",
       "      <td>0.003486</td>\n",
       "      <td>Approve</td>\n",
       "    </tr>\n",
       "    <tr>\n",
       "      <th>4</th>\n",
       "      <td>0x2c728c6597cc9e113b1711beccebf13d35ac53ccc362...</td>\n",
       "      <td>Transfer</td>\n",
       "      <td>19398639</td>\n",
       "      <td>0.050000</td>\n",
       "      <td>0.001581</td>\n",
       "      <td>Transfer</td>\n",
       "    </tr>\n",
       "    <tr>\n",
       "      <th>...</th>\n",
       "      <td>...</td>\n",
       "      <td>...</td>\n",
       "      <td>...</td>\n",
       "      <td>...</td>\n",
       "      <td>...</td>\n",
       "      <td>...</td>\n",
       "    </tr>\n",
       "    <tr>\n",
       "      <th>2448</th>\n",
       "      <td>0x2d2744121c928d3d9684bc2e70ce755222a7cbee68ac...</td>\n",
       "      <td>0x02000000</td>\n",
       "      <td>19398630</td>\n",
       "      <td>0.000000</td>\n",
       "      <td>0.017541</td>\n",
       "      <td>0x02000000</td>\n",
       "    </tr>\n",
       "    <tr>\n",
       "      <th>2449</th>\n",
       "      <td>0x0cf976f4016ade110d42d0b1a143571feba3b3213195...</td>\n",
       "      <td>Sell To Uniswap</td>\n",
       "      <td>19398630</td>\n",
       "      <td>0.585649</td>\n",
       "      <td>0.010208</td>\n",
       "      <td>Sell To Uniswap</td>\n",
       "    </tr>\n",
       "    <tr>\n",
       "      <th>2450</th>\n",
       "      <td>0x0452398faafd349a4aa4634985cbd8289672e7982abf...</td>\n",
       "      <td>0x01000000</td>\n",
       "      <td>19398630</td>\n",
       "      <td>0.000000</td>\n",
       "      <td>0.008736</td>\n",
       "      <td>0x01000000</td>\n",
       "    </tr>\n",
       "    <tr>\n",
       "      <th>2451</th>\n",
       "      <td>0x26e4a5ff58dc49b05776348d3bf64c396b204b7d7003...</td>\n",
       "      <td>Execute</td>\n",
       "      <td>19398630</td>\n",
       "      <td>0.000000</td>\n",
       "      <td>0.014265</td>\n",
       "      <td>Execute</td>\n",
       "    </tr>\n",
       "    <tr>\n",
       "      <th>2452</th>\n",
       "      <td>0x58d3cd78595499aa9409a14fe0734a8fb8238bb1bf2d...</td>\n",
       "      <td>Swap</td>\n",
       "      <td>19398630</td>\n",
       "      <td>0.000000</td>\n",
       "      <td>0.012476</td>\n",
       "      <td>Swap</td>\n",
       "    </tr>\n",
       "  </tbody>\n",
       "</table>\n",
       "<p>1536 rows × 6 columns</p>\n",
       "</div>"
      ],
      "text/plain": [
       "                                               Txn Hash           Method  \\\n",
       "0     0x78d28539fa6bafafa693ab3e88f0d69f1d76b7309e09...         Transfer   \n",
       "1     0x51139f42abe61475f05b79f25047fd0917769de90ba6...          Approve   \n",
       "2     0x05ce599999a91a027f57148b0414e359a4d188af2cd5...          Approve   \n",
       "3     0x55fcc20c69b7313ef26f629f4e09cf9686edcf73dc63...          Approve   \n",
       "4     0x2c728c6597cc9e113b1711beccebf13d35ac53ccc362...         Transfer   \n",
       "...                                                 ...              ...   \n",
       "2448  0x2d2744121c928d3d9684bc2e70ce755222a7cbee68ac...       0x02000000   \n",
       "2449  0x0cf976f4016ade110d42d0b1a143571feba3b3213195...  Sell To Uniswap   \n",
       "2450  0x0452398faafd349a4aa4634985cbd8289672e7982abf...       0x01000000   \n",
       "2451  0x26e4a5ff58dc49b05776348d3bf64c396b204b7d7003...          Execute   \n",
       "2452  0x58d3cd78595499aa9409a14fe0734a8fb8238bb1bf2d...             Swap   \n",
       "\n",
       "         Block     Value   Txn Fee      New Methods  \n",
       "0     19398639  0.055852  0.001663         Transfer  \n",
       "1     19398639  0.000000  0.002176          Approve  \n",
       "2     19398639  0.000000  0.003629          Approve  \n",
       "3     19398639  0.000000  0.003486          Approve  \n",
       "4     19398639  0.050000  0.001581         Transfer  \n",
       "...        ...       ...       ...              ...  \n",
       "2448  19398630  0.000000  0.017541       0x02000000  \n",
       "2449  19398630  0.585649  0.010208  Sell To Uniswap  \n",
       "2450  19398630  0.000000  0.008736       0x01000000  \n",
       "2451  19398630  0.000000  0.014265          Execute  \n",
       "2452  19398630  0.000000  0.012476             Swap  \n",
       "\n",
       "[1536 rows x 6 columns]"
      ]
     },
     "execution_count": 74,
     "metadata": {},
     "output_type": "execute_result"
    }
   ],
   "source": [
    "transactionsDf_with_zero_txn['New Method'] = transactionsDf_with_zero_txn['Method']\n",
    "transactionsDf_with_zero_txn"
   ]
  },
  {
   "cell_type": "markdown",
   "metadata": {},
   "source": [
    "The DataFrame is grouped by the 'New Method' column using groupby(). For each group (method), the number of samples to be taken is calculated based on the proportion returned by calcSampleProportion(). The sample method is used to select a stratified random sample from the DataFrame. The statistical summary of the sample is also displayed."
   ]
  },
  {
   "cell_type": "code",
   "execution_count": 75,
   "metadata": {},
   "outputs": [
    {
     "data": {
      "text/html": [
       "<div>\n",
       "<style scoped>\n",
       "    .dataframe tbody tr th:only-of-type {\n",
       "        vertical-align: middle;\n",
       "    }\n",
       "\n",
       "    .dataframe tbody tr th {\n",
       "        vertical-align: top;\n",
       "    }\n",
       "\n",
       "    .dataframe thead th {\n",
       "        text-align: right;\n",
       "    }\n",
       "</style>\n",
       "<table border=\"1\" class=\"dataframe\">\n",
       "  <thead>\n",
       "    <tr style=\"text-align: right;\">\n",
       "      <th></th>\n",
       "      <th>Value</th>\n",
       "      <th>Txn Fee</th>\n",
       "    </tr>\n",
       "  </thead>\n",
       "  <tbody>\n",
       "    <tr>\n",
       "      <th>count</th>\n",
       "      <td>307.000000</td>\n",
       "      <td>307.000000</td>\n",
       "    </tr>\n",
       "    <tr>\n",
       "      <th>mean</th>\n",
       "      <td>0.254304</td>\n",
       "      <td>0.008862</td>\n",
       "    </tr>\n",
       "    <tr>\n",
       "      <th>std</th>\n",
       "      <td>1.423720</td>\n",
       "      <td>0.020106</td>\n",
       "    </tr>\n",
       "    <tr>\n",
       "      <th>min</th>\n",
       "      <td>0.000000</td>\n",
       "      <td>0.001581</td>\n",
       "    </tr>\n",
       "    <tr>\n",
       "      <th>25%</th>\n",
       "      <td>0.000000</td>\n",
       "      <td>0.001753</td>\n",
       "    </tr>\n",
       "    <tr>\n",
       "      <th>50%</th>\n",
       "      <td>0.000000</td>\n",
       "      <td>0.003824</td>\n",
       "    </tr>\n",
       "    <tr>\n",
       "      <th>75%</th>\n",
       "      <td>0.078249</td>\n",
       "      <td>0.010534</td>\n",
       "    </tr>\n",
       "    <tr>\n",
       "      <th>max</th>\n",
       "      <td>22.626700</td>\n",
       "      <td>0.229372</td>\n",
       "    </tr>\n",
       "  </tbody>\n",
       "</table>\n",
       "</div>"
      ],
      "text/plain": [
       "            Value     Txn Fee\n",
       "count  307.000000  307.000000\n",
       "mean     0.254304    0.008862\n",
       "std      1.423720    0.020106\n",
       "min      0.000000    0.001581\n",
       "25%      0.000000    0.001753\n",
       "50%      0.000000    0.003824\n",
       "75%      0.078249    0.010534\n",
       "max     22.626700    0.229372"
      ]
     },
     "execution_count": 75,
     "metadata": {},
     "output_type": "execute_result"
    }
   ],
   "source": [
    "stratified_sampled = pd.DataFrame()\n",
    "\n",
    "top_9_methods = transactionsDf_with_zero_txn['New Method'].value_counts().nlargest(9).index\n",
    "transactionsDf_with_zero_txn.loc[~transactionsDf_with_zero_txn['New Method'].isin(top_9_methods), 'New Method'] = 'Other'\n",
    "\n",
    "for method, group in transactionsDf_with_zero_txn.groupby('New Method'):\n",
    "    num_samples = round(len(group) * calcSampleProportion(transactionsDf_with_zero_txn))\n",
    "    sampled_group = group.sample(n=num_samples, random_state=42)\n",
    "    stratified_sampled = pd.concat([stratified_sampled, sampled_group])\n",
    "\n",
    "stratified_sampled[['Value', 'Txn Fee']].describe()"
   ]
  },
  {
   "cell_type": "markdown",
   "metadata": {},
   "source": [
    "The DataFrame is grouped by the 'Value' column using 'groupby()'. For each group (value range), the number of samples to be taken is calculated based on the proportion of that range in the population. The sample method is used to select a stratified random sample from the DataFrame. The statistical summary of the sample is also displayed."
   ]
  },
  {
   "cell_type": "code",
   "execution_count": 76,
   "metadata": {},
   "outputs": [],
   "source": [
    "stratified_sampled_value = pd.DataFrame()\n",
    "stratified_sampled_value = transactionsDf_with_zero_txn.groupby('Value', group_keys=False).apply(lambda x: x.sample(frac=calcSampleProportion(transactionsDf_with_zero_txn), random_state=42))\n",
    "\n",
    "stratified_sampled_value[['Value', 'Txn Fee']].describe()"
   ]
  },
  {
   "cell_type": "markdown",
   "metadata": {},
   "source": [
    "The code below visually compares the distribution of transaction fees between the original data, a stratified sample, and a simple random sample using histograms. The logarithm transformation is applied to the transaction fees for better visualization. Using Log transformation is a common practice when dealing with data that has many values that are close to zero. It helps to make the data more interpretable and easier to visualize."
   ]
  },
  {
   "cell_type": "code",
   "execution_count": 77,
   "metadata": {},
   "outputs": [
    {
     "data": {
      "image/png": "[encoded data removed]",
      "text/plain": [
       "<Figure size 1080x360 with 3 Axes>"
      ]
     },
     "metadata": {
      "needs_background": "light"
     },
     "output_type": "display_data"
    }
   ],
   "source": [
    "bin_size_original = calcBinSize(np.log(transactionsDf_with_zero_txn['Txn Fee']))\n",
    "bin_size_stratified = bin_size_original\n",
    "bin_size_simple = bin_size_original\n",
    "\n",
    "fig, ax = plt.subplots(1, 3, figsize=(15, 5))\n",
    "fig.suptitle('Transaction Fee Distribution using log transformation')\n",
    "\n",
    "ax[0].hist(np.log(transactionsDf_with_zero_txn['Txn Fee']), bins=bin_size_original, color='blue', density=True, alpha=0.6)\n",
    "ax[0].set_title('Original Data')\n",
    "ax[0].set_xlabel('Transaction Fee')\n",
    "ax[0].set_ylabel('Density')\n",
    "\n",
    "ax[1].hist(np.log(stratified_sampled['Txn Fee']), bins=bin_size_stratified, color='green', density=True, alpha=0.6)\n",
    "ax[1].set_title('Stratified Sample')\n",
    "ax[1].set_xlabel('Transaction Fee')\n",
    "ax[1].set_ylabel('Density')\n",
    "\n",
    "ax[2].hist(np.log(simple_random_sampled['Txn Fee']), bins=bin_size_simple, color='red', density=True, alpha=0.6)\n",
    "ax[2].set_title('Simple Random Sample')\n",
    "ax[2].set_xlabel('Transaction Fee')\n",
    "ax[2].set_ylabel('Density')\n",
    "\n",
    "plt.show()"
   ]
  },
  {
   "cell_type": "markdown",
   "metadata": {},
   "source": [
    "As we can see from the above plots, the stratified sample and simple random sample have a similar distribution to the original data. This is because the sample size is large enough to capture the distribution of the original data. The stratified sample has a similar distribution to the original data, but it is more representative of the population because it captures the distribution of the original data for each stratum. The simple random sample also captures the distribution of the original data, but it may not be as representative of the population as the stratified sample because it may not capture the distribution of the original data for each stratum."
   ]
  },
  {
   "cell_type": "markdown",
   "metadata": {},
   "source": [
    "As the calculation of Log 0 is undefined, we need to use a small value to replace 0 in the data. We use the epsilon value to replace 0 in the data. The epsilon value is a small positive number that is added to the data to avoid taking the logarithm of 0. "
   ]
  },
  {
   "cell_type": "code",
   "execution_count": 78,
   "metadata": {},
   "outputs": [
    {
     "data": {
      "image/png": "[encoded data removed]",
      "text/plain": [
       "<Figure size 1080x360 with 3 Axes>"
      ]
     },
     "metadata": {
      "needs_background": "light"
     },
     "output_type": "display_data"
    }
   ],
   "source": [
    "stratified_sampled_plus_epsilon = stratified_sampled['Value'] + epsilon\n",
    "transactionsDf_with_zero_txn_plus_epsilon = transactionsDf_with_zero_txn['Value'] + epsilon\n",
    "simple_random_sampled_plus_epsilon = simple_random_sampled['Value'] + epsilon\n",
    "\n",
    "bin_size_original = calcBinSize(np.log(transactionsDf_with_zero_txn_plus_epsilon))\n",
    "bin_size_stratified = bin_size_original\n",
    "bin_size_simple = bin_size_original\n",
    "\n",
    "fig, ax = plt.subplots(1, 3, figsize=(15, 5))\n",
    "fig.suptitle('Transaction Value Distribution using log transformation')\n",
    "\n",
    "ax[0].hist(np.log(transactionsDf_with_zero_txn_plus_epsilon), bins=bin_size_original, color='blue', density=True, alpha=0.6)\n",
    "ax[0].set_title('Original Data')\n",
    "ax[0].set_xlabel('Transaction Value')\n",
    "ax[0].set_ylabel('Density')\n",
    "\n",
    "ax[1].hist(np.log(stratified_sampled_plus_epsilon), bins=bin_size_stratified, color='green', density=True, alpha=0.6)\n",
    "ax[1].set_title('Stratified Sample')\n",
    "ax[1].set_xlabel('Transaction Value')\n",
    "ax[1].set_ylabel('Density')\n",
    "\n",
    "ax[2].hist(np.log(simple_random_sampled_plus_epsilon), bins=bin_size_simple, color='red', density=True, alpha=0.6)\n",
    "ax[2].set_title('Simple Random Sample')\n",
    "ax[2].set_xlabel('Transaction Value')\n",
    "ax[2].set_ylabel('Density')\n",
    "\n",
    "plt.show()"
   ]
  },
  {
   "cell_type": "markdown",
   "metadata": {},
   "source": [
    "As we can see from the above plots, the result for the 'Value' column is similar to the result for the 'Tnx Fee' column. "
   ]
  },
  {
   "cell_type": "code",
   "execution_count": 79,
   "metadata": {},
   "outputs": [
    {
     "data": {
      "image/png": "[encoded data removed]",
      "text/plain": [
       "<Figure size 1080x360 with 3 Axes>"
      ]
     },
     "metadata": {
      "needs_background": "light"
     },
     "output_type": "display_data"
    }
   ],
   "source": [
    "fig, ax = plt.subplots(1, 3, figsize=(15, 5))\n",
    "fig.suptitle('Transaction Fee Distribution using Log Transformation')\n",
    "\n",
    "boxplot1 = ax[0].boxplot(np.log(transactionsDf_with_zero_txn['Txn Fee']))\n",
    "ax[0].set_title('Original Data')\n",
    "ax[0].set_ylabel('Transaction Fee')\n",
    "ax[0].set_xticklabels(['Value'])\n",
    "\n",
    "boxplot2 = ax[1].boxplot(np.log(stratified_sampled['Txn Fee']))\n",
    "ax[1].set_title('Stratified Sample')\n",
    "ax[1].set_ylabel('Transaction Fee')\n",
    "ax[1].set_xticklabels(['Value'])\n",
    "\n",
    "boxplot3 = ax[2].boxplot(np.log(simple_random_sampled['Txn Fee']))\n",
    "ax[2].set_title('Simple Random Sample')\n",
    "ax[2].set_ylabel('Transaction Fee')\n",
    "ax[2].set_xticklabels(['Value'])\n",
    "\n",
    "plt.show()"
   ]
  },
  {
   "cell_type": "markdown",
   "metadata": {},
   "source": [
    "By interpreting these elements of the box plot, we can gain insights into the central tendency, spread, and distribution of the dataset, as well as identify potential outliers or anomalies. As we expected, the median value of the stratified and simple random samples are similar to the median value of the original data. "
   ]
  },
  {
   "cell_type": "code",
   "execution_count": 80,
   "metadata": {},
   "outputs": [
    {
     "data": {
      "image/png": "[encoded data removed]",
      "text/plain": [
       "<Figure size 1080x360 with 3 Axes>"
      ]
     },
     "metadata": {
      "needs_background": "light"
     },
     "output_type": "display_data"
    }
   ],
   "source": [
    "fig, ax = plt.subplots(1, 3, figsize=(15, 5))\n",
    "fig.suptitle('Transaction Value Distribution using Log Transformation')\n",
    "\n",
    "boxplot1 = ax[0].boxplot(np.log(transactionsDf_with_zero_txn_plus_epsilon))\n",
    "ax[0].set_title('Original Data')\n",
    "ax[0].set_ylabel('Transaction Value')\n",
    "ax[0].set_xticklabels(['Value'])\n",
    "\n",
    "boxplot2 = ax[1].boxplot(np.log(stratified_sampled_plus_epsilon))\n",
    "ax[1].set_title('Stratified Sample')\n",
    "ax[1].set_ylabel('Transaction Value')\n",
    "ax[1].set_xticklabels(['Value'])\n",
    "\n",
    "boxplot3 = ax[2].boxplot(np.log(simple_random_sampled_plus_epsilon))\n",
    "ax[2].set_title('Simple Random Sample')\n",
    "ax[2].set_ylabel('Transaction Value')\n",
    "ax[2].set_xticklabels(['Value'])\n",
    "\n",
    "plt.show()"
   ]
  },
  {
   "cell_type": "markdown",
   "metadata": {},
   "source": [
    "As we can see from the above plots, the result for the 'Value' column for Stratified is more similar to the original data than the result for Simple Random Sample."
   ]
  },
  {
   "cell_type": "code",
   "execution_count": 81,
   "metadata": {},
   "outputs": [
    {
     "data": {
      "image/png": "[encoded data removed]",
      "text/plain": [
       "<Figure size 576x432 with 1 Axes>"
      ]
     },
     "metadata": {
      "needs_background": "light"
     },
     "output_type": "display_data"
    }
   ],
   "source": [
    "fig, ax = plt.subplots(figsize=(8, 6))\n",
    "ax.set_title('Transaction Fee Distribution using Log Transformation')\n",
    "\n",
    "violin_parts = ax.violinplot([np.log(transactionsDf_with_zero_txn['Txn Fee']), np.log(stratified_sampled['Txn Fee']), np.log(simple_random_sampled['Txn Fee'])], showmedians=True)\n",
    "colors = ['blue', 'green', 'red']\n",
    "for pc, color in zip(violin_parts['bodies'], colors):\n",
    "    pc.set_facecolor(color)\n",
    "\n",
    "ax.set_ylabel('Log of Transaction Fee')\n",
    "ax.set_xticks([1, 2, 3])\n",
    "ax.set_xticklabels(['Original Data', 'Stratified Sample', 'Simple Random Sample'])\n",
    "\n",
    "plt.show()"
   ]
  },
  {
   "cell_type": "code",
   "execution_count": 82,
   "metadata": {},
   "outputs": [
    {
     "data": {
      "image/png": "[encoded data removed]",
      "text/plain": [
       "<Figure size 576x432 with 1 Axes>"
      ]
     },
     "metadata": {
      "needs_background": "light"
     },
     "output_type": "display_data"
    }
   ],
   "source": [
    "fig, ax = plt.subplots(figsize=(8, 6))\n",
    "ax.set_title('Transaction Value Distribution using Log Transformation')\n",
    "\n",
    "violin_parts = ax.violinplot([np.log(transactionsDf_with_zero_txn_plus_epsilon), np.log(stratified_sampled_plus_epsilon), np.log(simple_random_sampled_plus_epsilon)], showmedians=True)\n",
    "colors = ['blue', 'green', 'red']\n",
    "for pc, color in zip(violin_parts['bodies'], colors):\n",
    "    pc.set_facecolor(color)\n",
    "\n",
    "ax.set_ylabel('Log of Transaction Value')\n",
    "ax.set_xticks([1, 2, 3])\n",
    "ax.set_xticklabels(['Original Data', 'Stratified Sample', 'Simple Random Sample'])\n",
    "\n",
    "plt.show()"
   ]
  },
  {
   "cell_type": "code",
   "execution_count": 1,
   "metadata": {},
   "outputs": [
    {
     "ename": "NameError",
     "evalue": "name 'transactionsDf_with_zero_txn' is not defined",
     "output_type": "error",
     "traceback": [
      "\u001b[1;31m---------------------------------------------------------------------------\u001b[0m",
      "\u001b[1;31mNameError\u001b[0m                                 Traceback (most recent call last)",
      "\u001b[1;32md:\\Term8\\Data Science\\CAs\\Web-Scraping\\Code&Report.ipynb Cell 62\u001b[0m in \u001b[0;36m<cell line: 1>\u001b[1;34m()\u001b[0m\n\u001b[1;32m----> <a href='vscode-notebook-cell:/d%3A/Term8/Data%20Science/CAs/Web-Scraping/Code%26Report.ipynb#Y111sZmlsZQ%3D%3D?line=0'>1</a>\u001b[0m original_df \u001b[39m=\u001b[39m transactionsDf_with_zero_txn[[\u001b[39m'\u001b[39m\u001b[39mValue\u001b[39m\u001b[39m'\u001b[39m, \u001b[39m'\u001b[39m\u001b[39mTxn Fee\u001b[39m\u001b[39m'\u001b[39m]]\u001b[39m.\u001b[39mdescribe()\u001b[39m.\u001b[39mT[[\u001b[39m'\u001b[39m\u001b[39mmean\u001b[39m\u001b[39m'\u001b[39m, \u001b[39m'\u001b[39m\u001b[39mstd\u001b[39m\u001b[39m'\u001b[39m]]\n\u001b[0;32m      <a href='vscode-notebook-cell:/d%3A/Term8/Data%20Science/CAs/Web-Scraping/Code%26Report.ipynb#Y111sZmlsZQ%3D%3D?line=1'>2</a>\u001b[0m stratified_df \u001b[39m=\u001b[39m stratified_sampled[[\u001b[39m'\u001b[39m\u001b[39mValue\u001b[39m\u001b[39m'\u001b[39m, \u001b[39m'\u001b[39m\u001b[39mTxn Fee\u001b[39m\u001b[39m'\u001b[39m]]\u001b[39m.\u001b[39mdescribe()\u001b[39m.\u001b[39mT[[\u001b[39m'\u001b[39m\u001b[39mmean\u001b[39m\u001b[39m'\u001b[39m, \u001b[39m'\u001b[39m\u001b[39mstd\u001b[39m\u001b[39m'\u001b[39m]]\n\u001b[0;32m      <a href='vscode-notebook-cell:/d%3A/Term8/Data%20Science/CAs/Web-Scraping/Code%26Report.ipynb#Y111sZmlsZQ%3D%3D?line=2'>3</a>\u001b[0m simple_random_df \u001b[39m=\u001b[39m simple_random_sampled[[\u001b[39m'\u001b[39m\u001b[39mValue\u001b[39m\u001b[39m'\u001b[39m, \u001b[39m'\u001b[39m\u001b[39mTxn Fee\u001b[39m\u001b[39m'\u001b[39m]]\u001b[39m.\u001b[39mdescribe()\u001b[39m.\u001b[39mT[[\u001b[39m'\u001b[39m\u001b[39mmean\u001b[39m\u001b[39m'\u001b[39m, \u001b[39m'\u001b[39m\u001b[39mstd\u001b[39m\u001b[39m'\u001b[39m]]\n",
      "\u001b[1;31mNameError\u001b[0m: name 'transactionsDf_with_zero_txn' is not defined"
     ]
    }
   ],
   "source": [
    "original_df = transactionsDf_with_zero_txn[['Value', 'Txn Fee']].describe().T[['mean', 'std']]\n",
    "stratified_df = stratified_sampled[['Value', 'Txn Fee']].describe().T[['mean', 'std']]\n",
    "simple_random_df = simple_random_sampled[['Value', 'Txn Fee']].describe().T[['mean', 'std']]\n",
    "stratified_df_value = stratified_sampled_value[['Value', 'Txn Fee']].describe().T[['mean', 'std']]\n",
    "stratified_df_block = stratified_sampled_block[['Value', 'Txn Fee']].describe().T[['mean', 'std']]\n",
    "\n",
    "combined_stats = pd.concat([original_df, stratified_df, stratified_df_value, stratified_df_block,  simple_random_df], axis=0, keys=['Original', 'Stratified Method', 'Stratified Value', 'Stratified Block', 'Simple Random Sample'])\n",
    "\n",
    "print(combined_stats)"
   ]
  }
 ],
 "metadata": {
  "kernelspec": {
   "display_name": "venv",
   "language": "python",
   "name": "python3"
  },
  "language_info": {
   "codemirror_mode": {
    "name": "ipython",
    "version": 3
   },
   "file_extension": ".py",
   "mimetype": "text/x-python",
   "name": "python",
   "nbconvert_exporter": "python",
   "pygments_lexer": "ipython3",
   "version": "3.10.4"
  }
 },
 "nbformat": 4,
 "nbformat_minor": 2
}
