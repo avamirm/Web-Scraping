{
 "cells": [
  {
   "cell_type": "markdown",
   "metadata": {},
   "source": [
    "# Web Scraping and Introductory Data Analysis\n",
    "bla bla bla"
   ]
  },
  {
   "cell_type": "markdown",
   "metadata": {},
   "source": [
    "## Part 1: Web Scraping "
   ]
  },
  {
   "cell_type": "code",
   "execution_count": 1,
   "metadata": {},
   "outputs": [],
   "source": [
    "from selenium import webdriver\n",
    "from selenium.webdriver.common.by import By\n",
    "from bs4 import BeautifulSoup\n",
    "import pandas as pd\n",
    "import matplotlib.pyplot as plt\n",
    "import numpy as np\n"
   ]
  },
  {
   "cell_type": "markdown",
   "metadata": {},
   "source": []
  },
  {
   "cell_type": "code",
   "execution_count": 2,
   "metadata": {},
   "outputs": [],
   "source": [
    "WEB_URL = \"https://etherscan.io/txs\"\n",
    "TRX_TABLE_XPATH_HEAD = \"//table[@class='table table-hover table-align-middle mb-0']/thead/tr/th\"\n",
    "TRX_TABLE_XPATH_BODY = \"//table[@class='table table-hover table-align-middle mb-0']/tbody/tr\"\n",
    "ETHER_SCAN_CSV_FILE = \"etherscan.csv\"\n",
    "NUM_OF_BLOCKS = 10\n"
   ]
  },
  {
   "cell_type": "markdown",
   "metadata": {},
   "source": [
    "We begin by initializing a WebDriver using Selenium. Specifically, we use the Firefox WebDriver to instantiate a Firefox browser instance. This WebDriver will facilitate interactions with web elements. The WebDriver navigates to the [Etherscan.io](https://etherscan.io/txs).  \n",
    "An assertion is used to verify that the title of the webpage contains the keyword \"Ethereum\". This step ensures that the WebDriver successfully loaded the expected webpage.  \n",
    "Also it is good to mention that the webdriver will wait for a page to load by default via .get() method before attempting to scrape the data."
   ]
  },
  {
   "cell_type": "code",
   "execution_count": 3,
   "metadata": {},
   "outputs": [],
   "source": [
    "driver = webdriver.Firefox()\n",
    "def setupWebDriver():\n",
    "    driver.get(WEB_URL)\n",
    "    assert \"Ethereum\" in driver.title\n",
    "\n",
    "setupWebDriver()"
   ]
  },
  {
   "cell_type": "markdown",
   "metadata": {},
   "source": [
    "The getTrxTableHeaders function extracts transactions table headers from HTML source code using the table's id. It modifies the extracted headers to match a specific format and returns the modified header as a list.  \n",
    "The getTrxTableBody function extracts the body of a transaction table from HTML source code using Beautiful Soup. It iterates through each row of the table, extracts the text from each cell, removes newline characters. Additionally, it captures the block number from the first row of the table. "
   ]
  },
  {
   "cell_type": "code",
   "execution_count": 4,
   "metadata": {},
   "outputs": [],
   "source": [
    "def getTrxTableHeaders(html_src):\n",
    "    trx_table_head = html_src.find(id = \"ContentPlaceHolder1_theadAllTransactionTable\").find_all('th')\n",
    "    header = [header.get_text().replace(\"\\n\", \"\") for header in trx_table_head]\n",
    "    header[2] = \"Method\"\n",
    "    header.pop(0)\n",
    "    header.pop(5)\n",
    "    header.insert(3, \"Date\")\n",
    "    header.insert(5, \"Local Time\")\n",
    "    header.append(\"Gas Price\")\n",
    "    return header\n",
    "\n",
    "def getTrxTableBody(rows_elements, html_src):\n",
    "    trx_table_body = html_src.find('table')\n",
    "    trx_table_body = trx_table_body.find_all('tr')\n",
    "    block_number = 0\n",
    "    for i in range(1, len(trx_table_body)):\n",
    "        rows = trx_table_body[i].find_all('td')\n",
    "        element = [elem.get_text() for elem in rows]\n",
    "        element = list(map(lambda x: x.replace(\"\\n\", \"\"), element))\n",
    "        element.pop(8)\n",
    "        element.pop(0)\n",
    "        if i == 1:\n",
    "            block_number = int(element[2])\n",
    "        rows_elements.append(element)\n",
    "    return rows_elements, block_number"
   ]
  },
  {
   "cell_type": "markdown",
   "metadata": {},
   "source": [
    "In this part we iterate through the transaction table, continuously fetching data until a certain condition is met. We click on the \"Next\" button in order to implement pagination handling to navigate through the pages and collect the last 10 blocks' transactions data. In this case that certain condition is the block number; At each iteration we get the first row's block number and compare it to the latest block number that we have.  \n",
    "In the end we save the data into a DataFrame."
   ]
  },
  {
   "cell_type": "code",
   "execution_count": 5,
   "metadata": {},
   "outputs": [],
   "source": [
    "def saveTransactionsToDp(header, body):\n",
    "    transactionsDf = pd.DataFrame(body, columns=header)\n",
    "    transactionsDf.to_csv(ETHER_SCAN_CSV_FILE, mode='a', header=False, index=False)\n",
    "    return transactionsDf\n",
    "    \n",
    "def scrapeWebPage():\n",
    "    html_src = BeautifulSoup(driver.page_source, 'html.parser')\n",
    "    header = getTrxTableHeaders(html_src)\n",
    "    rows_elements = []\n",
    "    body, latest_block_number = getTrxTableBody(rows_elements, html_src)\n",
    "    while True:\n",
    "        html_src = BeautifulSoup(driver.page_source, 'html.parser')\n",
    "        body, block_number = getTrxTableBody(body, html_src)\n",
    "        next_button = driver.find_element(By.XPATH, '//a[@aria-label=\"Next\"]')\n",
    "        next_button.click()\n",
    "        if block_number == latest_block_number - NUM_OF_BLOCKS:\n",
    "            break\n",
    "    transactionsDf = saveTransactionsToDp(header, body)\n",
    "    driver.close()\n",
    "    return latest_block_number, transactionsDf\n"
   ]
  },
  {
   "cell_type": "code",
   "execution_count": 6,
   "metadata": {},
   "outputs": [],
   "source": [
    "latest_block_number, transactionsDf = scrapeWebPage()\n",
    "def saveToCsvFile(transactionsDf):\n",
    "    transactionsDf.to_csv(ETHER_SCAN_CSV_FILE, index=False)\n",
    "    \n",
    "saveToCsvFile(transactionsDf)"
   ]
  },
  {
   "cell_type": "markdown",
   "metadata": {},
   "source": [
    "## Part 2: Data Analysis"
   ]
  },
  {
   "cell_type": "markdown",
   "metadata": {},
   "source": [
    "#### Clean Transactions Data"
   ]
  },
  {
   "cell_type": "code",
   "execution_count": 7,
   "metadata": {},
   "outputs": [],
   "source": [
    "transactionsDf_raw = transactionsDf.copy()"
   ]
  },
  {
   "cell_type": "code",
   "execution_count": 8,
   "metadata": {},
   "outputs": [
    {
     "data": {
      "text/html": [
       "<div>\n",
       "<style scoped>\n",
       "    .dataframe tbody tr th:only-of-type {\n",
       "        vertical-align: middle;\n",
       "    }\n",
       "\n",
       "    .dataframe tbody tr th {\n",
       "        vertical-align: top;\n",
       "    }\n",
       "\n",
       "    .dataframe thead th {\n",
       "        text-align: right;\n",
       "    }\n",
       "</style>\n",
       "<table border=\"1\" class=\"dataframe\">\n",
       "  <thead>\n",
       "    <tr style=\"text-align: right;\">\n",
       "      <th></th>\n",
       "      <th>Txn Hash</th>\n",
       "      <th>Method</th>\n",
       "      <th>Block</th>\n",
       "      <th>Date</th>\n",
       "      <th>Age</th>\n",
       "      <th>Local Time</th>\n",
       "      <th>From</th>\n",
       "      <th>To</th>\n",
       "      <th>Value</th>\n",
       "      <th>Txn Fee</th>\n",
       "      <th>Gas Price</th>\n",
       "    </tr>\n",
       "  </thead>\n",
       "  <tbody>\n",
       "    <tr>\n",
       "      <th>0</th>\n",
       "      <td>0x45665904ea1ad457a00104484211567361d699700910...</td>\n",
       "      <td>Transfer</td>\n",
       "      <td>19391882</td>\n",
       "      <td>2024-03-08 17:17:11</td>\n",
       "      <td>14 secs ago</td>\n",
       "      <td>1709918231</td>\n",
       "      <td>rsync-builder.eth</td>\n",
       "      <td>Fee Recipient: 0x7a1...0D6</td>\n",
       "      <td>0.115041986 ETH</td>\n",
       "      <td>0.00151679</td>\n",
       "      <td>72.2282514</td>\n",
       "    </tr>\n",
       "    <tr>\n",
       "      <th>1</th>\n",
       "      <td>0x23baaff54529eb9433395c09186a6aab14b3d795e6d7...</td>\n",
       "      <td>0x415565b0</td>\n",
       "      <td>19391882</td>\n",
       "      <td>2024-03-08 17:17:11</td>\n",
       "      <td>14 secs ago</td>\n",
       "      <td>1709918231</td>\n",
       "      <td>0x0295f3d9...009AdB469</td>\n",
       "      <td>0x: Exchange Proxy</td>\n",
       "      <td>0.076632267 ETH</td>\n",
       "      <td>0.01857194</td>\n",
       "      <td>72.2292514</td>\n",
       "    </tr>\n",
       "    <tr>\n",
       "      <th>2</th>\n",
       "      <td>0xfe631108c4ba9d9a0ddde737c87075af8c0150ed2641...</td>\n",
       "      <td>0x00000195</td>\n",
       "      <td>19391882</td>\n",
       "      <td>2024-03-08 17:17:11</td>\n",
       "      <td>14 secs ago</td>\n",
       "      <td>1709918231</td>\n",
       "      <td>0x345F6872...3B84cd5e1</td>\n",
       "      <td>Socket: Gateway</td>\n",
       "      <td>0.065717788 ETH</td>\n",
       "      <td>0.00538931</td>\n",
       "      <td>72.2292514</td>\n",
       "    </tr>\n",
       "    <tr>\n",
       "      <th>3</th>\n",
       "      <td>0x513037d74c25d78639b95ac9b348fe6a4ad499eac7f0...</td>\n",
       "      <td>Execute</td>\n",
       "      <td>19391882</td>\n",
       "      <td>2024-03-08 17:17:11</td>\n",
       "      <td>14 secs ago</td>\n",
       "      <td>1709918231</td>\n",
       "      <td>0x1d3990ef...78D752771</td>\n",
       "      <td>Uniswap: Universal Router</td>\n",
       "      <td>0.109898427 ETH</td>\n",
       "      <td>0.01101452</td>\n",
       "      <td>72.2292514</td>\n",
       "    </tr>\n",
       "    <tr>\n",
       "      <th>4</th>\n",
       "      <td>0x6e4a06544105be05188b232c5e218be7c1d7b252f3bd...</td>\n",
       "      <td>Transfer</td>\n",
       "      <td>19391882</td>\n",
       "      <td>2024-03-08 17:17:11</td>\n",
       "      <td>14 secs ago</td>\n",
       "      <td>1709918231</td>\n",
       "      <td>0xD0311426...25F96D077</td>\n",
       "      <td>0x49fbabfE...10a4F3697</td>\n",
       "      <td>0.25544089 ETH</td>\n",
       "      <td>0.00151681</td>\n",
       "      <td>72.2292514</td>\n",
       "    </tr>\n",
       "    <tr>\n",
       "      <th>...</th>\n",
       "      <td>...</td>\n",
       "      <td>...</td>\n",
       "      <td>...</td>\n",
       "      <td>...</td>\n",
       "      <td>...</td>\n",
       "      <td>...</td>\n",
       "      <td>...</td>\n",
       "      <td>...</td>\n",
       "      <td>...</td>\n",
       "      <td>...</td>\n",
       "      <td>...</td>\n",
       "    </tr>\n",
       "    <tr>\n",
       "      <th>3495</th>\n",
       "      <td>0xf1ccb31f6a711974a78506d6a3776bafd4e589df8b8d...</td>\n",
       "      <td>Transfer</td>\n",
       "      <td>19391872</td>\n",
       "      <td>2024-03-08 17:15:11</td>\n",
       "      <td>4 mins ago</td>\n",
       "      <td>1709918111</td>\n",
       "      <td>Coinbase 3</td>\n",
       "      <td>0x955Dd106...1771B4381</td>\n",
       "      <td>0.0255627 ETH</td>\n",
       "      <td>0.00157083</td>\n",
       "      <td>74.80172689</td>\n",
       "    </tr>\n",
       "    <tr>\n",
       "      <th>3496</th>\n",
       "      <td>0x58dea1fc45126ecf1519af3aaf68a7fbb888db48d4b5...</td>\n",
       "      <td>Approve</td>\n",
       "      <td>19391872</td>\n",
       "      <td>2024-03-08 17:15:11</td>\n",
       "      <td>4 mins ago</td>\n",
       "      <td>1709918111</td>\n",
       "      <td>0x54c18afD...66ff867A1</td>\n",
       "      <td>0x24708f06...A64773c6E</td>\n",
       "      <td>0 ETH</td>\n",
       "      <td>0.00345</td>\n",
       "      <td>74.80172689</td>\n",
       "    </tr>\n",
       "    <tr>\n",
       "      <th>3497</th>\n",
       "      <td>0xfe382ca8b43b564576f89e3e239faff2df4f025a7fdb...</td>\n",
       "      <td>Transfer</td>\n",
       "      <td>19391872</td>\n",
       "      <td>2024-03-08 17:15:11</td>\n",
       "      <td>4 mins ago</td>\n",
       "      <td>1709918111</td>\n",
       "      <td>Coinbase 6</td>\n",
       "      <td>0xe499412E...3d64173aE</td>\n",
       "      <td>0.12649321 ETH</td>\n",
       "      <td>0.00157083</td>\n",
       "      <td>74.80172689</td>\n",
       "    </tr>\n",
       "    <tr>\n",
       "      <th>3498</th>\n",
       "      <td>0x7e050414fc1114f2bfeef28bfd45309ef9f3ee88ae00...</td>\n",
       "      <td>Transfer</td>\n",
       "      <td>19391872</td>\n",
       "      <td>2024-03-08 17:15:11</td>\n",
       "      <td>4 mins ago</td>\n",
       "      <td>1709918111</td>\n",
       "      <td>0xc4017033...4a95b1a1b</td>\n",
       "      <td>IMMUTABLE X: IMX Token</td>\n",
       "      <td>0 ETH</td>\n",
       "      <td>0.00223507</td>\n",
       "      <td>74.80172689</td>\n",
       "    </tr>\n",
       "    <tr>\n",
       "      <th>3499</th>\n",
       "      <td>0xb61a091aed72bb8a8ef1f643f693c42f676e74b470cf...</td>\n",
       "      <td>Transfer</td>\n",
       "      <td>19391872</td>\n",
       "      <td>2024-03-08 17:15:11</td>\n",
       "      <td>4 mins ago</td>\n",
       "      <td>1709918111</td>\n",
       "      <td>0xb8597052...366B87344</td>\n",
       "      <td>IMMUTABLE X: IMX Token</td>\n",
       "      <td>0 ETH</td>\n",
       "      <td>0.00259232</td>\n",
       "      <td>74.80172689</td>\n",
       "    </tr>\n",
       "  </tbody>\n",
       "</table>\n",
       "<p>3500 rows × 11 columns</p>\n",
       "</div>"
      ],
      "text/plain": [
       "                                               Txn Hash      Method     Block  \\\n",
       "0     0x45665904ea1ad457a00104484211567361d699700910...    Transfer  19391882   \n",
       "1     0x23baaff54529eb9433395c09186a6aab14b3d795e6d7...  0x415565b0  19391882   \n",
       "2     0xfe631108c4ba9d9a0ddde737c87075af8c0150ed2641...  0x00000195  19391882   \n",
       "3     0x513037d74c25d78639b95ac9b348fe6a4ad499eac7f0...     Execute  19391882   \n",
       "4     0x6e4a06544105be05188b232c5e218be7c1d7b252f3bd...    Transfer  19391882   \n",
       "...                                                 ...         ...       ...   \n",
       "3495  0xf1ccb31f6a711974a78506d6a3776bafd4e589df8b8d...    Transfer  19391872   \n",
       "3496  0x58dea1fc45126ecf1519af3aaf68a7fbb888db48d4b5...     Approve  19391872   \n",
       "3497  0xfe382ca8b43b564576f89e3e239faff2df4f025a7fdb...    Transfer  19391872   \n",
       "3498  0x7e050414fc1114f2bfeef28bfd45309ef9f3ee88ae00...    Transfer  19391872   \n",
       "3499  0xb61a091aed72bb8a8ef1f643f693c42f676e74b470cf...    Transfer  19391872   \n",
       "\n",
       "                     Date          Age  Local Time                     From  \\\n",
       "0     2024-03-08 17:17:11  14 secs ago  1709918231       rsync-builder.eth    \n",
       "1     2024-03-08 17:17:11  14 secs ago  1709918231  0x0295f3d9...009AdB469    \n",
       "2     2024-03-08 17:17:11  14 secs ago  1709918231  0x345F6872...3B84cd5e1    \n",
       "3     2024-03-08 17:17:11  14 secs ago  1709918231  0x1d3990ef...78D752771    \n",
       "4     2024-03-08 17:17:11  14 secs ago  1709918231  0xD0311426...25F96D077    \n",
       "...                   ...          ...         ...                      ...   \n",
       "3495  2024-03-08 17:15:11   4 mins ago  1709918111              Coinbase 3    \n",
       "3496  2024-03-08 17:15:11   4 mins ago  1709918111  0x54c18afD...66ff867A1    \n",
       "3497  2024-03-08 17:15:11   4 mins ago  1709918111              Coinbase 6    \n",
       "3498  2024-03-08 17:15:11   4 mins ago  1709918111  0xc4017033...4a95b1a1b    \n",
       "3499  2024-03-08 17:15:11   4 mins ago  1709918111  0xb8597052...366B87344    \n",
       "\n",
       "                               To            Value     Txn Fee    Gas Price  \n",
       "0     Fee Recipient: 0x7a1...0D6   0.115041986 ETH  0.00151679   72.2282514  \n",
       "1             0x: Exchange Proxy   0.076632267 ETH  0.01857194   72.2292514  \n",
       "2                Socket: Gateway   0.065717788 ETH  0.00538931   72.2292514  \n",
       "3      Uniswap: Universal Router   0.109898427 ETH  0.01101452   72.2292514  \n",
       "4         0x49fbabfE...10a4F3697    0.25544089 ETH  0.00151681   72.2292514  \n",
       "...                           ...              ...         ...          ...  \n",
       "3495      0x955Dd106...1771B4381     0.0255627 ETH  0.00157083  74.80172689  \n",
       "3496      0x24708f06...A64773c6E             0 ETH     0.00345  74.80172689  \n",
       "3497      0xe499412E...3d64173aE    0.12649321 ETH  0.00157083  74.80172689  \n",
       "3498      IMMUTABLE X: IMX Token             0 ETH  0.00223507  74.80172689  \n",
       "3499      IMMUTABLE X: IMX Token             0 ETH  0.00259232  74.80172689  \n",
       "\n",
       "[3500 rows x 11 columns]"
      ]
     },
     "metadata": {},
     "output_type": "display_data"
    }
   ],
   "source": [
    "display(transactionsDf)"
   ]
  },
  {
   "cell_type": "code",
   "execution_count": 9,
   "metadata": {},
   "outputs": [
    {
     "name": "stdout",
     "output_type": "stream",
     "text": [
      "<class 'pandas.core.frame.DataFrame'>\n",
      "RangeIndex: 3500 entries, 0 to 3499\n",
      "Data columns (total 11 columns):\n",
      " #   Column      Non-Null Count  Dtype \n",
      "---  ------      --------------  ----- \n",
      " 0   Txn Hash    3500 non-null   object\n",
      " 1   Method      3500 non-null   object\n",
      " 2   Block       3500 non-null   object\n",
      " 3   Date        3500 non-null   object\n",
      " 4   Age         3500 non-null   object\n",
      " 5   Local Time  3500 non-null   object\n",
      " 6   From        3500 non-null   object\n",
      " 7   To          3500 non-null   object\n",
      " 8   Value       3500 non-null   object\n",
      " 9   Txn Fee     3500 non-null   object\n",
      " 10  Gas Price   3500 non-null   object\n",
      "dtypes: object(11)\n",
      "memory usage: 300.9+ KB\n"
     ]
    }
   ],
   "source": [
    "transactionsDf.info()"
   ]
  },
  {
   "cell_type": "code",
   "execution_count": 10,
   "metadata": {},
   "outputs": [
    {
     "name": "stdout",
     "output_type": "stream",
     "text": [
      "Rows count before removing duplicate rows: 3500\n",
      "Rows count after removing duplicate rows: 2340\n"
     ]
    }
   ],
   "source": [
    "print(f\"Rows count before removing duplicate rows: {transactionsDf.shape[0]}\")\n",
    "transactionsDf.drop_duplicates(subset=['Txn Hash'], inplace=True)\n",
    "print(f\"Rows count after removing duplicate rows: {transactionsDf.shape[0]}\")\n",
    "\n",
    "transactionsDf_removed_dups = transactionsDf.copy()"
   ]
  },
  {
   "cell_type": "code",
   "execution_count": 11,
   "metadata": {},
   "outputs": [
    {
     "name": "stdout",
     "output_type": "stream",
     "text": [
      "<class 'pandas.core.frame.DataFrame'>\n",
      "Int64Index: 2340 entries, 0 to 3499\n",
      "Data columns (total 5 columns):\n",
      " #   Column    Non-Null Count  Dtype  \n",
      "---  ------    --------------  -----  \n",
      " 0   Txn Hash  2340 non-null   object \n",
      " 1   Method    2340 non-null   object \n",
      " 2   Block     2340 non-null   int32  \n",
      " 3   Value     2340 non-null   float64\n",
      " 4   Txn Fee   2340 non-null   float64\n",
      "dtypes: float64(2), int32(1), object(2)\n",
      "memory usage: 100.5+ KB\n"
     ]
    }
   ],
   "source": [
    "transactionsDf.drop(columns=['Date', 'Age', 'From', 'To', 'Local Time', 'Gas Price'], inplace=True)\n",
    "\n",
    "transactionsDf['Block'] = transactionsDf['Block'].astype(int)\n",
    "transactionsDf['Txn Fee'] = transactionsDf['Txn Fee'].str.replace('\"', '').str.replace(',', '').astype(str)\n",
    "transactionsDf['Txn Fee'] = transactionsDf['Txn Fee'].astype(float)\n",
    "transactionsDf['Value'] = transactionsDf['Value'].str.replace('\"', '').str.replace(',', '').astype(str)\n",
    "transactionsDf['Value'] = transactionsDf['Value'].apply(lambda x: float(x.split(' ')[0]) if 'ETH' in x else float(x.split(' ')[0])/10**18)\n",
    "\n",
    "transactionsDf.info()"
   ]
  },
  {
   "cell_type": "code",
   "execution_count": 12,
   "metadata": {},
   "outputs": [
    {
     "name": "stdout",
     "output_type": "stream",
     "text": [
      "Before removing Extra Blocks:\n",
      "Max Block number: 19391885, Min Block number:  19391872\n",
      "Unique Values in Block Column: 14\n",
      "\n",
      "After removing Extra Blocks:\n",
      "Max Block number: 19391882, Min Block number:  19391873\n",
      "Unique Values in Block Column: 10\n"
     ]
    }
   ],
   "source": [
    "print(\"Before removing Extra Blocks:\")\n",
    "print(f\"Max Block number: {transactionsDf['Block'].max()}, Min Block number:  {transactionsDf['Block'].min()}\")\n",
    "print(f\"Unique Values in Block Column: {transactionsDf['Block'].nunique()}\")\n",
    "\n",
    "block_mask = (transactionsDf['Block'] > latest_block_number - NUM_OF_BLOCKS) & (transactionsDf['Block'] <= latest_block_number)\n",
    "transactionsDf = transactionsDf[block_mask]\n",
    "\n",
    "print(\"\\nAfter removing Extra Blocks:\")\n",
    "print(f\"Max Block number: {transactionsDf['Block'].max()}, Min Block number:  {transactionsDf['Block'].min()}\")\n",
    "print(f\"Unique Values in Block Column: {transactionsDf['Block'].nunique()}\")"
   ]
  },
  {
   "cell_type": "code",
   "execution_count": 13,
   "metadata": {},
   "outputs": [],
   "source": [
    "transactionsDf_cleansed = transactionsDf.copy()"
   ]
  },
  {
   "cell_type": "code",
   "execution_count": 14,
   "metadata": {},
   "outputs": [
    {
     "data": {
      "text/html": [
       "<div>\n",
       "<style scoped>\n",
       "    .dataframe tbody tr th:only-of-type {\n",
       "        vertical-align: middle;\n",
       "    }\n",
       "\n",
       "    .dataframe tbody tr th {\n",
       "        vertical-align: top;\n",
       "    }\n",
       "\n",
       "    .dataframe thead th {\n",
       "        text-align: right;\n",
       "    }\n",
       "</style>\n",
       "<table border=\"1\" class=\"dataframe\">\n",
       "  <thead>\n",
       "    <tr style=\"text-align: right;\">\n",
       "      <th></th>\n",
       "      <th>Block</th>\n",
       "      <th>Value</th>\n",
       "      <th>Txn Fee</th>\n",
       "    </tr>\n",
       "  </thead>\n",
       "  <tbody>\n",
       "    <tr>\n",
       "      <th>count</th>\n",
       "      <td>1.742000e+03</td>\n",
       "      <td>1742.000000</td>\n",
       "      <td>1742.000000</td>\n",
       "    </tr>\n",
       "    <tr>\n",
       "      <th>mean</th>\n",
       "      <td>1.939188e+07</td>\n",
       "      <td>0.526137</td>\n",
       "      <td>0.006952</td>\n",
       "    </tr>\n",
       "    <tr>\n",
       "      <th>std</th>\n",
       "      <td>2.913504e+00</td>\n",
       "      <td>3.467314</td>\n",
       "      <td>0.014452</td>\n",
       "    </tr>\n",
       "    <tr>\n",
       "      <th>min</th>\n",
       "      <td>1.939187e+07</td>\n",
       "      <td>0.000000</td>\n",
       "      <td>0.001517</td>\n",
       "    </tr>\n",
       "    <tr>\n",
       "      <th>25%</th>\n",
       "      <td>1.939188e+07</td>\n",
       "      <td>0.000000</td>\n",
       "      <td>0.001642</td>\n",
       "    </tr>\n",
       "    <tr>\n",
       "      <th>50%</th>\n",
       "      <td>1.939188e+07</td>\n",
       "      <td>0.001967</td>\n",
       "      <td>0.003521</td>\n",
       "    </tr>\n",
       "    <tr>\n",
       "      <th>75%</th>\n",
       "      <td>1.939188e+07</td>\n",
       "      <td>0.083697</td>\n",
       "      <td>0.009518</td>\n",
       "    </tr>\n",
       "    <tr>\n",
       "      <th>max</th>\n",
       "      <td>1.939188e+07</td>\n",
       "      <td>64.750000</td>\n",
       "      <td>0.441395</td>\n",
       "    </tr>\n",
       "  </tbody>\n",
       "</table>\n",
       "</div>"
      ],
      "text/plain": [
       "              Block        Value      Txn Fee\n",
       "count  1.742000e+03  1742.000000  1742.000000\n",
       "mean   1.939188e+07     0.526137     0.006952\n",
       "std    2.913504e+00     3.467314     0.014452\n",
       "min    1.939187e+07     0.000000     0.001517\n",
       "25%    1.939188e+07     0.000000     0.001642\n",
       "50%    1.939188e+07     0.001967     0.003521\n",
       "75%    1.939188e+07     0.083697     0.009518\n",
       "max    1.939188e+07    64.750000     0.441395"
      ]
     },
     "metadata": {},
     "output_type": "display_data"
    },
    {
     "data": {
      "text/html": [
       "<div>\n",
       "<style scoped>\n",
       "    .dataframe tbody tr th:only-of-type {\n",
       "        vertical-align: middle;\n",
       "    }\n",
       "\n",
       "    .dataframe tbody tr th {\n",
       "        vertical-align: top;\n",
       "    }\n",
       "\n",
       "    .dataframe thead th {\n",
       "        text-align: right;\n",
       "    }\n",
       "</style>\n",
       "<table border=\"1\" class=\"dataframe\">\n",
       "  <thead>\n",
       "    <tr style=\"text-align: right;\">\n",
       "      <th></th>\n",
       "      <th>Block</th>\n",
       "      <th>Value</th>\n",
       "      <th>Txn Fee</th>\n",
       "    </tr>\n",
       "  </thead>\n",
       "  <tbody>\n",
       "    <tr>\n",
       "      <th>count</th>\n",
       "      <td>8.970000e+02</td>\n",
       "      <td>8.970000e+02</td>\n",
       "      <td>897.000000</td>\n",
       "    </tr>\n",
       "    <tr>\n",
       "      <th>mean</th>\n",
       "      <td>1.939188e+07</td>\n",
       "      <td>1.021774e+00</td>\n",
       "      <td>0.004853</td>\n",
       "    </tr>\n",
       "    <tr>\n",
       "      <th>std</th>\n",
       "      <td>2.847585e+00</td>\n",
       "      <td>4.780506e+00</td>\n",
       "      <td>0.006475</td>\n",
       "    </tr>\n",
       "    <tr>\n",
       "      <th>min</th>\n",
       "      <td>1.939187e+07</td>\n",
       "      <td>4.000000e-17</td>\n",
       "      <td>0.001517</td>\n",
       "    </tr>\n",
       "    <tr>\n",
       "      <th>25%</th>\n",
       "      <td>1.939188e+07</td>\n",
       "      <td>2.004248e-02</td>\n",
       "      <td>0.001593</td>\n",
       "    </tr>\n",
       "    <tr>\n",
       "      <th>50%</th>\n",
       "      <td>1.939188e+07</td>\n",
       "      <td>8.000000e-02</td>\n",
       "      <td>0.001648</td>\n",
       "    </tr>\n",
       "    <tr>\n",
       "      <th>75%</th>\n",
       "      <td>1.939188e+07</td>\n",
       "      <td>3.266970e-01</td>\n",
       "      <td>0.008650</td>\n",
       "    </tr>\n",
       "    <tr>\n",
       "      <th>max</th>\n",
       "      <td>1.939188e+07</td>\n",
       "      <td>6.475000e+01</td>\n",
       "      <td>0.101673</td>\n",
       "    </tr>\n",
       "  </tbody>\n",
       "</table>\n",
       "</div>"
      ],
      "text/plain": [
       "              Block         Value     Txn Fee\n",
       "count  8.970000e+02  8.970000e+02  897.000000\n",
       "mean   1.939188e+07  1.021774e+00    0.004853\n",
       "std    2.847585e+00  4.780506e+00    0.006475\n",
       "min    1.939187e+07  4.000000e-17    0.001517\n",
       "25%    1.939188e+07  2.004248e-02    0.001593\n",
       "50%    1.939188e+07  8.000000e-02    0.001648\n",
       "75%    1.939188e+07  3.266970e-01    0.008650\n",
       "max    1.939188e+07  6.475000e+01    0.101673"
      ]
     },
     "metadata": {},
     "output_type": "display_data"
    }
   ],
   "source": [
    "transactionsDf_with_zero_txn = transactionsDf.copy()\n",
    "display(transactionsDf_with_zero_txn.describe())\n",
    "\n",
    "transactionsDf_without_zero_txn = transactionsDf[transactionsDf['Value'] > 0]\n",
    "display(transactionsDf_without_zero_txn.describe())"
   ]
  },
  {
   "cell_type": "markdown",
   "metadata": {},
   "source": [
    "### Plotting Histogram of Tnx Fee and Value with and without zero transactions"
   ]
  },
  {
   "cell_type": "code",
   "execution_count": 15,
   "metadata": {},
   "outputs": [
    {
     "data": {
      "image/png": "[encoded data removed]",
      "text/plain": [
       "<Figure size 1080x360 with 2 Axes>"
      ]
     },
     "metadata": {
      "needs_background": "light"
     },
     "output_type": "display_data"
    }
   ],
   "source": [
    "# 3.5 * standard deviation * n^(-1/3)\n",
    "# bin_width_with_zero_txn = (3.5 * transactionsDf_with_zero_txn['Txn Fee'].std()) / (transactionsDf_with_zero_txn['Txn Fee'].count() ** (1/3))\n",
    "# bin_size_with_zero_txn = round((transactionsDf_with_zero_txn['Txn Fee'].max() - transactionsDf_with_zero_txn['Txn Fee'].min()) / bin_width_with_zero_txn)\n",
    "\n",
    "# bin_width_without_zero_txn = (3.5 * transactionsDf_without_zero_txn['Txn Fee'].std()) / (transactionsDf_without_zero_txn['Txn Fee'].count() ** (1/3))\n",
    "# bin_size_without_zero_txn = round((transactionsDf_without_zero_txn['Txn Fee'].max() - transactionsDf_without_zero_txn['Txn Fee'].min()) / bin_width_without_zero_txn)\n",
    "\n",
    "# #square root of the number of transactions\n",
    "# bin_size_with_zero_txn = int(transactionsDf_with_zero_txn['Txn Fee'].count()** (1/2))\n",
    "# bin_size_without_zero_txn = int(transactionsDf_without_zero_txn['Txn Fee'].count() ** (1/2))\n",
    "\n",
    "# 2 * IQR * n^(-1/3)\n",
    "bin_width_with_zero_txn = 2 * (transactionsDf_with_zero_txn['Txn Fee'].quantile(0.75) - transactionsDf_with_zero_txn['Txn Fee'].quantile(0.25)) * transactionsDf_with_zero_txn['Txn Fee'].count() ** (-1/3)\n",
    "bin_width_without_zero_txn = 2 * (transactionsDf_without_zero_txn['Txn Fee'].quantile(0.75) - transactionsDf_without_zero_txn['Txn Fee'].quantile(0.25)) * transactionsDf_without_zero_txn['Txn Fee'].count() ** (-1/3)\n",
    "bin_size_with_zero_txn = round((transactionsDf_with_zero_txn['Txn Fee'].max() - transactionsDf_with_zero_txn['Txn Fee'].min()) / bin_width_with_zero_txn)\n",
    "bin_size_without_zero_txn = round((transactionsDf_without_zero_txn['Txn Fee'].max() - transactionsDf_without_zero_txn['Txn Fee'].min()) / bin_width_without_zero_txn)\n",
    "\n",
    "fig, ax = plt.subplots(1, 2, figsize=(15, 5))\n",
    "fig.suptitle('Transaction Fee Distribution')\n",
    "\n",
    "ax[0].hist(transactionsDf_with_zero_txn['Txn Fee'], bins=bin_size_with_zero_txn, color='blue')\n",
    "ax[0].set_title('With Zero Transactions')\n",
    "ax[0].set_xlabel('Transaction Fee')\n",
    "ax[0].set_ylabel('Frequency')\n",
    "\n",
    "ax[1].hist(transactionsDf_without_zero_txn['Txn Fee'], bins=bin_size_without_zero_txn, color='green')\n",
    "ax[1].set_title('Without Zero Transactions')\n",
    "ax[1].set_xlabel('Transaction Fee')\n",
    "ax[1].set_ylabel('Frequency')\n",
    "\n",
    "plt.show()\n"
   ]
  },
  {
   "cell_type": "code",
   "execution_count": 16,
   "metadata": {},
   "outputs": [
    {
     "data": {
      "image/png": "[encoded data removed]",
      "text/plain": [
       "<Figure size 1080x360 with 2 Axes>"
      ]
     },
     "metadata": {
      "needs_background": "light"
     },
     "output_type": "display_data"
    }
   ],
   "source": [
    "\n",
    "# 1 + log2(n) is the optimal number of bins\n",
    "bin_size_with_zero_txn = 1 + int(np.log2(transactionsDf_with_zero_txn['Txn Fee'].count()))\n",
    "bin_size_without_zero_txn = 1 + int(np.log2(transactionsDf_without_zero_txn['Txn Fee'].count()))\n",
    "\n",
    "fig, ax = plt.subplots(1, 2, figsize=(15, 5))\n",
    "fig.suptitle('Transaction Fee Distribution')\n",
    "\n",
    "ax[0].hist(transactionsDf_with_zero_txn['Txn Fee'], bins=bin_size_with_zero_txn, color='blue')\n",
    "ax[0].set_title('With Zero Transactions')\n",
    "ax[0].set_xlabel('Transaction Fee')\n",
    "ax[0].set_ylabel('Frequency')\n",
    "\n",
    "ax[1].hist(transactionsDf_without_zero_txn['Txn Fee'], bins=bin_size_without_zero_txn, color='green')\n",
    "ax[1].set_title('Without Zero Transactions')\n",
    "ax[1].set_xlabel('Transaction Fee')\n",
    "ax[1].set_ylabel('Frequency')\n",
    "\n",
    "plt.show()"
   ]
  },
  {
   "cell_type": "code",
   "execution_count": 20,
   "metadata": {},
   "outputs": [
    {
     "data": {
      "image/png": "[encoded data removed]",
      "text/plain": [
       "<Figure size 1080x360 with 2 Axes>"
      ]
     },
     "metadata": {
      "needs_background": "light"
     },
     "output_type": "display_data"
    }
   ],
   "source": [
    "\n",
    "# 2 * IQR * n^(-1/3)\n",
    "bin_width_with_zero_txn = 2 * (transactionsDf_with_zero_txn['Value'].quantile(0.75) - transactionsDf_with_zero_txn['Value'].quantile(0.25)) * transactionsDf_with_zero_txn['Value'].count() ** (-1/3)\n",
    "bin_width_without_zero_txn = 2 * (transactionsDf_without_zero_txn['Value'].quantile(0.75) - transactionsDf_without_zero_txn['Value'].quantile(0.25)) * transactionsDf_without_zero_txn['Value'].count() ** (-1/3)\n",
    "bin_size_with_zero_txn = round((transactionsDf_with_zero_txn['Value'].max() - transactionsDf_with_zero_txn['Value'].min()) / bin_width_with_zero_txn)\n",
    "bin_size_without_zero_txn = round((transactionsDf_without_zero_txn['Value'].max() - transactionsDf_without_zero_txn['Value'].min()) / bin_width_without_zero_txn)\n",
    "\n",
    "if bin_size_with_zero_txn > 50:\n",
    "    bin_size_with_zero_txn = 100\n",
    "if bin_size_without_zero_txn > 50:\n",
    "    bin_size_without_zero_txn = 100\n",
    "\n",
    "fig, ax = plt.subplots(1, 2, figsize=(15, 5))\n",
    "fig.suptitle('Transaction Value Distribution')\n",
    "\n",
    "ax[0].hist(transactionsDf_with_zero_txn['Value'], bins=bin_size_with_zero_txn, color='blue')\n",
    "ax[0].set_title('With Zero Transactions')\n",
    "ax[0].set_xlabel('Transaction Value')\n",
    "ax[0].set_ylabel('Frequency')\n",
    "\n",
    "ax[1].hist(transactionsDf_without_zero_txn['Value'], bins=bin_size_without_zero_txn, color='green')\n",
    "ax[1].set_title('Without Zero Transactions')\n",
    "ax[1].set_xlabel('Transaction Value')\n",
    "ax[1].set_ylabel('Frequency')\n",
    "\n",
    "plt.show()"
   ]
  }
 ],
 "metadata": {
  "kernelspec": {
   "display_name": "venv",
   "language": "python",
   "name": "python3"
  },
  "language_info": {
   "codemirror_mode": {
    "name": "ipython",
    "version": 3
   },
   "file_extension": ".py",
   "mimetype": "text/x-python",
   "name": "python",
   "nbconvert_exporter": "python",
   "pygments_lexer": "ipython3",
   "version": "3.10.4"
  }
 },
 "nbformat": 4,
 "nbformat_minor": 2
}
